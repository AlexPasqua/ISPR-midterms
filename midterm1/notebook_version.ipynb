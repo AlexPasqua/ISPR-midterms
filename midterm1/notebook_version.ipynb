{
 "cells": [
  {
   "cell_type": "code",
   "execution_count": 1,
   "metadata": {
    "collapsed": true
   },
   "outputs": [],
   "source": [
    "import matplotlib.pyplot as plt\n",
    "import numpy as np\n",
    "from tqdm.notebook import tqdm\n",
    "from statsmodels.graphics.tsaplots import plot_pacf, plot_acf\n",
    "from statsmodels.tsa.arima.model import ARIMA\n",
    "from statsmodels.tsa.stattools import adfuller\n",
    "from my_utilities import read_data"
   ]
  },
  {
   "cell_type": "code",
   "execution_count": 2,
   "outputs": [],
   "source": [
    "# read the data\n",
    "whole_data, tr_data, ts_data = read_data()"
   ],
   "metadata": {
    "collapsed": false,
    "pycharm": {
     "name": "#%%\n"
    }
   }
  },
  {
   "cell_type": "markdown",
   "source": [
    "Check the p-value of the whole series, training data e test data to check if it's stationary"
   ],
   "metadata": {
    "collapsed": false,
    "pycharm": {
     "name": "#%% md\n"
    }
   }
  },
  {
   "cell_type": "code",
   "execution_count": 3,
   "outputs": [
    {
     "name": "stdout",
     "output_type": "stream",
     "text": [
      "p-value of the whole series: 0.000000\n",
      "p-value of the training data: 0.000000\n",
      "p-value of the test data: 0.000000\n"
     ]
    }
   ],
   "source": [
    "pvalue = adfuller(whole_data)[1]\n",
    "print('p-value of the whole series: %f' % pvalue)\n",
    "pvalue = adfuller(tr_data)[1]\n",
    "print('p-value of the training data: %f' % pvalue)\n",
    "pvalue = adfuller(ts_data)[1]\n",
    "print('p-value of the test data: %f' % pvalue)"
   ],
   "metadata": {
    "collapsed": false,
    "pycharm": {
     "name": "#%%\n"
    }
   }
  },
  {
   "cell_type": "markdown",
   "source": [
    "To find the **AR order**, plot the **partial autocorrelation**"
   ],
   "metadata": {
    "collapsed": false,
    "pycharm": {
     "name": "#%% md\n"
    }
   }
  },
  {
   "cell_type": "code",
   "execution_count": 4,
   "outputs": [
    {
     "data": {
      "text/plain": "<Figure size 432x288 with 1 Axes>",
      "image/png": "[encoded data removed]"
     },
     "metadata": {
      "needs_background": "light"
     },
     "output_type": "display_data"
    }
   ],
   "source": [
    "plot_pacf(tr_data, lags=20)\n",
    "plt.show()"
   ],
   "metadata": {
    "collapsed": false,
    "pycharm": {
     "name": "#%%\n"
    }
   }
  },
  {
   "cell_type": "markdown",
   "source": [
    "Set the AR order"
   ],
   "metadata": {
    "collapsed": false,
    "pycharm": {
     "name": "#%% md\n"
    }
   }
  },
  {
   "cell_type": "code",
   "execution_count": 5,
   "outputs": [],
   "source": [
    "ar_order = 5"
   ],
   "metadata": {
    "collapsed": false,
    "pycharm": {
     "name": "#%%\n"
    }
   }
  },
  {
   "cell_type": "markdown",
   "source": [
    "To find the **MA order**, plot the **autocorrelation**"
   ],
   "metadata": {
    "collapsed": false,
    "pycharm": {
     "name": "#%% md\n"
    }
   }
  },
  {
   "cell_type": "code",
   "execution_count": 6,
   "outputs": [
    {
     "data": {
      "text/plain": "<Figure size 432x288 with 1 Axes>",
      "image/png": "[encoded data removed]"
     },
     "metadata": {
      "needs_background": "light"
     },
     "output_type": "display_data"
    }
   ],
   "source": [
    "plot_acf(tr_data, lags=50)\n",
    "plt.show()"
   ],
   "metadata": {
    "collapsed": false,
    "pycharm": {
     "name": "#%%\n"
    }
   }
  },
  {
   "cell_type": "markdown",
   "source": [
    "Set the MA order"
   ],
   "metadata": {
    "collapsed": false,
    "pycharm": {
     "name": "#%% md\n"
    }
   }
  },
  {
   "cell_type": "code",
   "execution_count": 7,
   "outputs": [],
   "source": [
    "ma_order = 3"
   ],
   "metadata": {
    "collapsed": false,
    "pycharm": {
     "name": "#%%\n"
    }
   }
  },
  {
   "cell_type": "markdown",
   "source": [
    "Create and fit an AR model, a MA one and an ARMA one"
   ],
   "metadata": {
    "collapsed": false,
    "pycharm": {
     "name": "#%% md\n"
    }
   }
  },
  {
   "cell_type": "code",
   "execution_count": 9,
   "outputs": [],
   "source": [
    "ar = ARIMA(endog=tr_data, order=(ar_order, 0, 0))\n",
    "ma = ARIMA(endog=tr_data, order=(0, 0, ma_order))\n",
    "arma = ARIMA(endog=tr_data, order=(ar_order, 0, ma_order))\n",
    "res_ar = ar.fit()\n",
    "res_ma = ma.fit()\n",
    "res_arma = arma.fit()"
   ],
   "metadata": {
    "collapsed": false,
    "pycharm": {
     "name": "#%%\n"
    }
   }
  },
  {
   "cell_type": "markdown",
   "source": [
    "Check the models' coefficients to see if there are irrelevant ones"
   ],
   "metadata": {
    "collapsed": false,
    "pycharm": {
     "name": "#%% md\n"
    }
   }
  },
  {
   "cell_type": "code",
   "execution_count": 10,
   "outputs": [
    {
     "name": "stdout",
     "output_type": "stream",
     "text": [
      "AR model's coefficients: [ 0.81202175 -0.16319037  0.07975819  0.01541432  0.05563371]\n",
      "MA model's coefficients: [0.83532467 0.48908294 0.21892564]\n",
      "ARMA model's AR coefficients: [ 0.2622909   0.90451224 -0.08570204 -0.19385362  0.0527056 ]\n",
      "ARMA model's MA coefficients: [ 0.53637449 -0.64691054 -0.45032385]\n"
     ]
    }
   ],
   "source": [
    "print(f\"AR model's coefficients: {res_ar.arparams}\")\n",
    "print(f\"MA model's coefficients: {res_ma.maparams}\")\n",
    "print(f\"ARMA model's AR coefficients: {res_arma.arparams}\")\n",
    "print(f\"ARMA model's MA coefficients: {res_arma.maparams}\")"
   ],
   "metadata": {
    "collapsed": false,
    "pycharm": {
     "name": "#%%\n"
    }
   }
  },
  {
   "cell_type": "markdown",
   "source": [
    "We can see that some coefficients are near zero.\n",
    "Let's try to change them a bit:"
   ],
   "metadata": {
    "collapsed": false,
    "pycharm": {
     "name": "#%% md\n"
    }
   }
  },
  {
   "cell_type": "code",
   "execution_count": 37,
   "outputs": [
    {
     "name": "stderr",
     "output_type": "stream",
     "text": [
      "d:\\projects\\ispr-midterms\\venv\\lib\\site-packages\\statsmodels\\tsa\\statespace\\sarimax.py:966: UserWarning: Non-stationary starting autoregressive parameters found. Using zeros as starting parameters.\n",
      "  warn('Non-stationary starting autoregressive parameters'\n",
      "d:\\projects\\ispr-midterms\\venv\\lib\\site-packages\\statsmodels\\tsa\\statespace\\sarimax.py:978: UserWarning: Non-invertible starting MA parameters found. Using zeros as starting parameters.\n",
      "  warn('Non-invertible starting MA parameters found.'\n"
     ]
    },
    {
     "name": "stdout",
     "output_type": "stream",
     "text": [
      "AR model's coefficients: [ 0.82336458 -0.16992748  0.12014315]\n",
      "MA model's coefficients: [0.8457893  0.51584071 0.30191087 0.1371225 ]\n",
      "ARMA model's AR coefficients: [ 1.62998863 -0.81480596  0.16207377]\n",
      "ARMA model's MA coefficients: [-0.83555902]\n"
     ]
    }
   ],
   "source": [
    "ar_order = 3\n",
    "ma_order = 4\n",
    "arma_ar_order = 3\n",
    "arma_ma_order = 1\n",
    "ar = ARIMA(endog=tr_data, order=(ar_order, 0, 0))\n",
    "ma = ARIMA(endog=tr_data, order=(0, 0, ma_order))\n",
    "arma = ARIMA(endog=tr_data, order=(arma_ar_order, 0, arma_ma_order))\n",
    "res_ar = ar.fit()\n",
    "res_ma = ma.fit()\n",
    "res_arma = arma.fit()\n",
    "print(f\"AR model's coefficients: {res_ar.arparams}\")\n",
    "print(f\"MA model's coefficients: {res_ma.maparams}\")\n",
    "print(f\"ARMA model's AR coefficients: {res_arma.arparams}\")\n",
    "print(f\"ARMA model's MA coefficients: {res_arma.maparams}\")"
   ],
   "metadata": {
    "collapsed": false,
    "pycharm": {
     "name": "#%%\n"
    }
   }
  },
  {
   "cell_type": "markdown",
   "source": [
    "These coefficients look pretty good, no one is too near to zero.\n",
    "\n",
    "Make **predictions** with retraining for one day.<br>\n",
    "**AR model**:"
   ],
   "metadata": {
    "collapsed": false
   }
  },
  {
   "cell_type": "code",
   "execution_count": 38,
   "outputs": [
    {
     "data": {
      "text/plain": "  0%|          | 0/144 [00:00<?, ?it/s]",
      "application/vnd.jupyter.widget-view+json": {
       "version_major": 2,
       "version_minor": 0,
       "model_id": "ce9bea897a414a81a762cc05379c1099"
      }
     },
     "metadata": {},
     "output_type": "display_data"
    }
   ],
   "source": [
    "err = 0\n",
    "predictions = []\n",
    "for i in tqdm(range(24*6)):\n",
    "    predictions.append(res_ar.forecast(steps=1))\n",
    "    curr_err = abs(predictions[-1] - ts_data[i])\n",
    "    err += curr_err\n",
    "    tr_data = np.concatenate((tr_data, [ts_data[i]]))\n",
    "    ar = ARIMA(endog=tr_data, order=(ar_order, 0, 0))\n",
    "    res_ar = ar.fit()"
   ],
   "metadata": {
    "collapsed": false,
    "pycharm": {
     "name": "#%%\n"
    }
   }
  },
  {
   "cell_type": "code",
   "execution_count": 39,
   "outputs": [
    {
     "name": "stdout",
     "output_type": "stream",
     "text": [
      "Average error:  [0.38560878]\n"
     ]
    },
    {
     "data": {
      "text/plain": "<Figure size 432x288 with 1 Axes>",
      "image/png": "[encoded data removed]"
     },
     "metadata": {
      "needs_background": "light"
     },
     "output_type": "display_data"
    }
   ],
   "source": [
    "err /= len(ts_data)\n",
    "print(\"Average error: \", err)\n",
    "plt.plot(ts_data[:24*6], label=\"Test data\")\n",
    "plt.plot(predictions, label=\"Predictions\")\n",
    "plt.legend()\n",
    "plt.show()\n"
   ],
   "metadata": {
    "collapsed": false,
    "pycharm": {
     "name": "#%%\n"
    }
   }
  }
 ],
 "metadata": {
  "kernelspec": {
   "display_name": "Python 3",
   "language": "python",
   "name": "python3"
  },
  "language_info": {
   "codemirror_mode": {
    "name": "ipython",
    "version": 2
   },
   "file_extension": ".py",
   "mimetype": "text/x-python",
   "name": "python",
   "nbconvert_exporter": "python",
   "pygments_lexer": "ipython2",
   "version": "2.7.6"
  }
 },
 "nbformat": 4,
 "nbformat_minor": 0
}