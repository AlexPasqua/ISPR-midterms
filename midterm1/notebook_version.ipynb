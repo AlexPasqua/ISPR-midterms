{
 "cells": [
  {
   "cell_type": "code",
   "execution_count": 45,
   "metadata": {
    "collapsed": true
   },
   "outputs": [],
   "source": [
    "import matplotlib.pyplot as plt\n",
    "import numpy as np\n",
    "from tqdm.notebook import tqdm\n",
    "from statsmodels.graphics.tsaplots import plot_pacf, plot_acf\n",
    "from statsmodels.tsa.arima.model import ARIMA\n",
    "from statsmodels.tsa.stattools import adfuller\n",
    "from my_utilities import read_data"
   ]
  },
  {
   "cell_type": "code",
   "execution_count": 46,
   "outputs": [],
   "source": [
    "# read the data\n",
    "whole_data, tr_data, ts_data = read_data()"
   ],
   "metadata": {
    "collapsed": false,
    "pycharm": {
     "name": "#%%\n"
    }
   }
  },
  {
   "cell_type": "markdown",
   "source": [
    "Check the p-value of the whole series, training data e test data to check if it's stationary"
   ],
   "metadata": {
    "collapsed": false,
    "pycharm": {
     "name": "#%% md\n"
    }
   }
  },
  {
   "cell_type": "code",
   "execution_count": 47,
   "outputs": [
    {
     "name": "stdout",
     "output_type": "stream",
     "text": [
      "p-value of the whole series: 0.000000\n",
      "p-value of the training data: 0.000000\n",
      "p-value of the test data: 0.000000\n"
     ]
    }
   ],
   "source": [
    "pvalue = adfuller(whole_data)[1]\n",
    "print('p-value of the whole series: %f' % pvalue)\n",
    "pvalue = adfuller(tr_data)[1]\n",
    "print('p-value of the training data: %f' % pvalue)\n",
    "pvalue = adfuller(ts_data)[1]\n",
    "print('p-value of the test data: %f' % pvalue)"
   ],
   "metadata": {
    "collapsed": false,
    "pycharm": {
     "name": "#%%\n"
    }
   }
  },
  {
   "cell_type": "markdown",
   "source": [
    "To find the **AR order**, plot the **partial autocorrelation**"
   ],
   "metadata": {
    "collapsed": false,
    "pycharm": {
     "name": "#%% md\n"
    }
   }
  },
  {
   "cell_type": "code",
   "execution_count": 48,
   "outputs": [
    {
     "data": {
      "text/plain": "<Figure size 432x288 with 1 Axes>",
      "image/png": "[encoded data removed]"
     },
     "metadata": {
      "needs_background": "light"
     },
     "output_type": "display_data"
    }
   ],
   "source": [
    "plot_pacf(tr_data, lags=20)\n",
    "plt.show()"
   ],
   "metadata": {
    "collapsed": false,
    "pycharm": {
     "name": "#%%\n"
    }
   }
  },
  {
   "cell_type": "markdown",
   "source": [
    "Set the AR order"
   ],
   "metadata": {
    "collapsed": false,
    "pycharm": {
     "name": "#%% md\n"
    }
   }
  },
  {
   "cell_type": "code",
   "execution_count": 49,
   "outputs": [],
   "source": [
    "ar_order = 5"
   ],
   "metadata": {
    "collapsed": false,
    "pycharm": {
     "name": "#%%\n"
    }
   }
  },
  {
   "cell_type": "markdown",
   "source": [
    "To find the **MA order**, plot the **autocorrelation**"
   ],
   "metadata": {
    "collapsed": false,
    "pycharm": {
     "name": "#%% md\n"
    }
   }
  },
  {
   "cell_type": "code",
   "execution_count": 50,
   "outputs": [
    {
     "data": {
      "text/plain": "<Figure size 432x288 with 1 Axes>",
      "image/png": "[encoded data removed]"
     },
     "metadata": {
      "needs_background": "light"
     },
     "output_type": "display_data"
    }
   ],
   "source": [
    "plot_acf(tr_data, lags=50)\n",
    "plt.show()"
   ],
   "metadata": {
    "collapsed": false,
    "pycharm": {
     "name": "#%%\n"
    }
   }
  },
  {
   "cell_type": "markdown",
   "source": [
    "Set the MA order"
   ],
   "metadata": {
    "collapsed": false,
    "pycharm": {
     "name": "#%% md\n"
    }
   }
  },
  {
   "cell_type": "code",
   "execution_count": 51,
   "outputs": [],
   "source": [
    "ma_order = 3"
   ],
   "metadata": {
    "collapsed": false,
    "pycharm": {
     "name": "#%%\n"
    }
   }
  },
  {
   "cell_type": "markdown",
   "source": [
    "Create and fit an AR model, a MA one and an ARMA one"
   ],
   "metadata": {
    "collapsed": false,
    "pycharm": {
     "name": "#%% md\n"
    }
   }
  },
  {
   "cell_type": "code",
   "execution_count": 60,
   "outputs": [],
   "source": [
    "ar = ARIMA(endog=tr_data, order=(ar_order, 0, 0))\n",
    "ma = ARIMA(endog=tr_data, order=(0, 0, ma_order))\n",
    "arma = ARIMA(endog=tr_data, order=(ar_order, 0, ma_order))\n",
    "res_ar = ar.fit()\n",
    "res_ma = ma.fit()\n",
    "res_arma = arma.fit()"
   ],
   "metadata": {
    "collapsed": false,
    "pycharm": {
     "name": "#%%\n"
    }
   }
  },
  {
   "cell_type": "markdown",
   "source": [
    "Check the models' coefficients to see if there are irrelevant ones"
   ],
   "metadata": {
    "collapsed": false,
    "pycharm": {
     "name": "#%% md\n"
    }
   }
  },
  {
   "cell_type": "code",
   "execution_count": 64,
   "outputs": [
    {
     "name": "stdout",
     "output_type": "stream",
     "text": [
      "AR model's coefficients: [ 0.81202175 -0.16319037  0.07975819  0.01541432  0.05563371]\n",
      "MA model's coefficients: [0.83532467 0.48908294 0.21892564]\n",
      "ARMA model's AR coefficients: [ 0.2622909   0.90451224 -0.08570204 -0.19385362  0.0527056 ]\n",
      "ARMA model's MA coefficients: [ 0.53637449 -0.64691054 -0.45032385]\n"
     ]
    }
   ],
   "source": [
    "print(f\"AR model's coefficients: {res_ar.arparams}\")\n",
    "print(f\"MA model's coefficients: {res_ma.maparams}\")\n",
    "print(f\"ARMA model's AR coefficients: {res_arma.arparams}\")\n",
    "print(f\"ARMA model's MA coefficients: {res_arma.maparams}\")"
   ],
   "metadata": {
    "collapsed": false,
    "pycharm": {
     "name": "#%%\n"
    }
   }
  },
  {
   "cell_type": "markdown",
   "source": [
    "Make predictions with retraining"
   ],
   "metadata": {
    "collapsed": false,
    "pycharm": {
     "name": "#%% md\n"
    }
   }
  },
  {
   "cell_type": "code",
   "execution_count": null,
   "outputs": [],
   "source": [
    "err = 0\n",
    "predictions = []\n",
    "for i in tqdm(range(100)):\n",
    "    predictions.append(res.forecast(steps=1))\n",
    "    curr_err = abs(predictions[-1] - ts_data[i])\n",
    "    err += curr_err\n",
    "    tr_data = np.concatenate((tr_data, [ts_data[i]]))\n",
    "    model = ARIMA(endog=tr_data, order=(ar_order, 0, 0))\n",
    "    res = model.fit()"
   ],
   "metadata": {
    "collapsed": false,
    "pycharm": {
     "name": "#%%\n"
    }
   }
  },
  {
   "cell_type": "code",
   "execution_count": null,
   "outputs": [],
   "source": [
    "err /= len(ts_data)\n",
    "print(\"Average error: \", err)\n",
    "plt.plot(ts_data[:100], label=\"Test data\")\n",
    "plt.plot(predictions, label=\"Predictions\")\n",
    "plt.legend()\n",
    "plt.show()\n"
   ],
   "metadata": {
    "collapsed": false,
    "pycharm": {
     "name": "#%%\n"
    }
   }
  }
 ],
 "metadata": {
  "kernelspec": {
   "display_name": "Python 3",
   "language": "python",
   "name": "python3"
  },
  "language_info": {
   "codemirror_mode": {
    "name": "ipython",
    "version": 2
   },
   "file_extension": ".py",
   "mimetype": "text/x-python",
   "name": "python",
   "nbconvert_exporter": "python",
   "pygments_lexer": "ipython2",
   "version": "2.7.6"
  }
 },
 "nbformat": 4,
 "nbformat_minor": 0
}