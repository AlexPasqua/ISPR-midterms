{
 "cells": [
  {
   "cell_type": "code",
   "execution_count": 32,
   "metadata": {
    "collapsed": true
   },
   "outputs": [],
   "source": [
    "import matplotlib.pyplot as plt\n",
    "import numpy as np\n",
    "import copy\n",
    "import json\n",
    "from tqdm.notebook import tqdm\n",
    "from statsmodels.graphics.tsaplots import plot_pacf, plot_acf\n",
    "from statsmodels.tsa.arima.model import ARIMA\n",
    "from statsmodels.tsa.stattools import adfuller\n",
    "from my_utilities import read_data"
   ]
  },
  {
   "cell_type": "code",
   "execution_count": 2,
   "outputs": [],
   "source": [
    "# read the data\n",
    "whole_data, tr_data, ts_data = read_data()"
   ],
   "metadata": {
    "collapsed": false,
    "pycharm": {
     "name": "#%%\n"
    }
   }
  },
  {
   "cell_type": "markdown",
   "source": [
    "Check the p-value of the whole series, training data e test data to check if it's stationary"
   ],
   "metadata": {
    "collapsed": false,
    "pycharm": {
     "name": "#%% md\n"
    }
   }
  },
  {
   "cell_type": "code",
   "execution_count": 3,
   "outputs": [
    {
     "name": "stdout",
     "output_type": "stream",
     "text": [
      "p-value of the whole series: 0.000000\n",
      "p-value of the training data: 0.000000\n",
      "p-value of the test data: 0.000000\n"
     ]
    }
   ],
   "source": [
    "pvalue = adfuller(whole_data)[1]\n",
    "print('p-value of the whole series: %f' % pvalue)\n",
    "pvalue = adfuller(tr_data)[1]\n",
    "print('p-value of the training data: %f' % pvalue)\n",
    "pvalue = adfuller(ts_data)[1]\n",
    "print('p-value of the test data: %f' % pvalue)"
   ],
   "metadata": {
    "collapsed": false,
    "pycharm": {
     "name": "#%%\n"
    }
   }
  },
  {
   "cell_type": "markdown",
   "source": [
    "They are all stationary\n",
    "\n",
    "To find the **AR order**, plot the **partial autocorrelation**"
   ],
   "metadata": {
    "collapsed": false,
    "pycharm": {
     "name": "#%% md\n"
    }
   }
  },
  {
   "cell_type": "code",
   "execution_count": 4,
   "outputs": [
    {
     "data": {
      "text/plain": "<Figure size 432x288 with 1 Axes>",
      "image/png": "[encoded data removed]"
     },
     "metadata": {
      "needs_background": "light"
     },
     "output_type": "display_data"
    }
   ],
   "source": [
    "plot_pacf(tr_data, lags=20)\n",
    "plt.show()"
   ],
   "metadata": {
    "collapsed": false,
    "pycharm": {
     "name": "#%%\n"
    }
   }
  },
  {
   "cell_type": "markdown",
   "source": [
    "Set the AR order"
   ],
   "metadata": {
    "collapsed": false,
    "pycharm": {
     "name": "#%% md\n"
    }
   }
  },
  {
   "cell_type": "code",
   "execution_count": 5,
   "outputs": [],
   "source": [
    "ar_order = 5"
   ],
   "metadata": {
    "collapsed": false,
    "pycharm": {
     "name": "#%%\n"
    }
   }
  },
  {
   "cell_type": "markdown",
   "source": [
    "To find the **MA order**, plot the **autocorrelation**"
   ],
   "metadata": {
    "collapsed": false,
    "pycharm": {
     "name": "#%% md\n"
    }
   }
  },
  {
   "cell_type": "code",
   "execution_count": 6,
   "outputs": [
    {
     "data": {
      "text/plain": "<Figure size 432x288 with 1 Axes>",
      "image/png": "[encoded data removed]"
     },
     "metadata": {
      "needs_background": "light"
     },
     "output_type": "display_data"
    }
   ],
   "source": [
    "plot_acf(tr_data, lags=50)\n",
    "plt.show()"
   ],
   "metadata": {
    "collapsed": false,
    "pycharm": {
     "name": "#%%\n"
    }
   }
  },
  {
   "cell_type": "markdown",
   "source": [
    "Set the MA order"
   ],
   "metadata": {
    "collapsed": false,
    "pycharm": {
     "name": "#%% md\n"
    }
   }
  },
  {
   "cell_type": "code",
   "execution_count": 7,
   "outputs": [],
   "source": [
    "ma_order = 3"
   ],
   "metadata": {
    "collapsed": false,
    "pycharm": {
     "name": "#%%\n"
    }
   }
  },
  {
   "cell_type": "markdown",
   "source": [
    "Create and fit an AR model, a MA one and an ARMA one"
   ],
   "metadata": {
    "collapsed": false,
    "pycharm": {
     "name": "#%% md\n"
    }
   }
  },
  {
   "cell_type": "code",
   "execution_count": 9,
   "outputs": [],
   "source": [
    "ar = ARIMA(endog=tr_data, order=(ar_order, 0, 0))\n",
    "ma = ARIMA(endog=tr_data, order=(0, 0, ma_order))\n",
    "arma = ARIMA(endog=tr_data, order=(ar_order, 0, ma_order))\n",
    "res_ar = ar.fit()\n",
    "res_ma = ma.fit()\n",
    "res_arma = arma.fit()"
   ],
   "metadata": {
    "collapsed": false,
    "pycharm": {
     "name": "#%%\n"
    }
   }
  },
  {
   "cell_type": "markdown",
   "source": [
    "Check the models' coefficients to see if there are irrelevant ones"
   ],
   "metadata": {
    "collapsed": false,
    "pycharm": {
     "name": "#%% md\n"
    }
   }
  },
  {
   "cell_type": "code",
   "execution_count": 10,
   "outputs": [
    {
     "name": "stdout",
     "output_type": "stream",
     "text": [
      "AR model's coefficients: [ 0.81202175 -0.16319037  0.07975819  0.01541432  0.05563371]\n",
      "MA model's coefficients: [0.83532467 0.48908294 0.21892564]\n",
      "ARMA model's AR coefficients: [ 0.2622909   0.90451224 -0.08570204 -0.19385362  0.0527056 ]\n",
      "ARMA model's MA coefficients: [ 0.53637449 -0.64691054 -0.45032385]\n"
     ]
    }
   ],
   "source": [
    "print(f\"AR model's coefficients: {res_ar.arparams}\")\n",
    "print(f\"MA model's coefficients: {res_ma.maparams}\")\n",
    "print(f\"ARMA model's AR coefficients: {res_arma.arparams}\")\n",
    "print(f\"ARMA model's MA coefficients: {res_arma.maparams}\")"
   ],
   "metadata": {
    "collapsed": false,
    "pycharm": {
     "name": "#%%\n"
    }
   }
  },
  {
   "cell_type": "markdown",
   "source": [
    "We can see that some coefficients are near zero.\n",
    "Let's try to change them a bit:"
   ],
   "metadata": {
    "collapsed": false,
    "pycharm": {
     "name": "#%% md\n"
    }
   }
  },
  {
   "cell_type": "code",
   "execution_count": 11,
   "outputs": [
    {
     "name": "stdout",
     "output_type": "stream",
     "text": [
      "AR model's coefficients: [ 0.82274631 -0.16953783  0.12089911]\n",
      "MA model's coefficients: [0.84547571 0.51511217 0.30238695 0.13767543]\n",
      "ARMA model's AR coefficients: [ 1.62896096 -0.81327326  0.16156719]\n",
      "ARMA model's MA coefficients: [-0.83525517]\n"
     ]
    }
   ],
   "source": [
    "ar_order = 3\n",
    "ma_order = 4\n",
    "arma_ar_order = 3\n",
    "arma_ma_order = 1\n",
    "ar = ARIMA(endog=tr_data, order=(ar_order, 0, 0))\n",
    "ma = ARIMA(endog=tr_data, order=(0, 0, ma_order))\n",
    "arma = ARIMA(endog=tr_data, order=(arma_ar_order, 0, arma_ma_order))\n",
    "res_ar = ar.fit()\n",
    "res_ma = ma.fit()\n",
    "res_arma = arma.fit()\n",
    "print(f\"AR model's coefficients: {res_ar.arparams}\")\n",
    "print(f\"MA model's coefficients: {res_ma.maparams}\")\n",
    "print(f\"ARMA model's AR coefficients: {res_arma.arparams}\")\n",
    "print(f\"ARMA model's MA coefficients: {res_arma.maparams}\")"
   ],
   "metadata": {
    "collapsed": false,
    "pycharm": {
     "name": "#%%\n"
    }
   }
  },
  {
   "cell_type": "markdown",
   "source": [
    "These coefficients look pretty good, no one is too near to zero.\n",
    "\n",
    "Make **predictions** with retraining for one day.<br>\n",
    "**AR model**:"
   ],
   "metadata": {
    "collapsed": false
   }
  },
  {
   "cell_type": "code",
   "execution_count": 12,
   "outputs": [
    {
     "data": {
      "text/plain": "  0%|          | 0/144 [00:00<?, ?it/s]",
      "application/vnd.jupyter.widget-view+json": {
       "version_major": 2,
       "version_minor": 0,
       "model_id": "62a7d2fd6c1a492aa934491e9d609fb6"
      }
     },
     "metadata": {},
     "output_type": "display_data"
    },
    {
     "name": "stdout",
     "output_type": "stream",
     "text": [
      "MAE:  34.492067449048534\n"
     ]
    },
    {
     "data": {
      "text/plain": "<Figure size 432x288 with 1 Axes>",
      "image/png": "[encoded data removed]"
     },
     "metadata": {
      "needs_background": "light"
     },
     "output_type": "display_data"
    }
   ],
   "source": [
    "n_pred = 24 * 6\n",
    "predictions = []\n",
    "for i in tqdm(range(n_pred)):\n",
    "    predictions.append(res_ar.forecast(steps=1))\n",
    "    tr_data = np.concatenate((tr_data, [ts_data[i]]))\n",
    "    ar = ARIMA(endog=tr_data, order=(ar_order, 0, 0))\n",
    "    res_ar = ar.fit()\n",
    "\n",
    "mae = np.mean(np.abs(np.subtract(predictions, ts_data[:n_pred])))\n",
    "print(\"MAE: \", mae)\n",
    "plt.plot(ts_data[:n_pred], label=\"Test data\")\n",
    "plt.plot(predictions, label=\"Predictions\")\n",
    "plt.legend()\n",
    "plt.show()"
   ],
   "metadata": {
    "collapsed": false,
    "pycharm": {
     "name": "#%%\n"
    }
   }
  },
  {
   "cell_type": "markdown",
   "source": [
    "Test the models on the whole test set with different retraining policies"
   ],
   "metadata": {
    "collapsed": false,
    "pycharm": {
     "name": "#%% md\n"
    }
   }
  },
  {
   "cell_type": "code",
   "execution_count": 45,
   "outputs": [],
   "source": [
    "from serial_training import train\n",
    "\n",
    "# the order of this list is important: first all the entries of one model, the all the ones of another model etc\n",
    "# don't \"mix\" the models\n",
    "combos = [\n",
    "    {\"order_ar\": 3, \"order_ma\": 0, \"err_thresh\": 10},\n",
    "    {\"order_ar\": 3, \"order_ma\": 0, \"err_thresh\": 50},\n",
    "    {\"order_ar\": 3, \"order_ma\": 0, \"err_thresh\": 100},\n",
    "    {\"order_ar\": 3, \"order_ma\": 1, \"err_thresh\": 10},\n",
    "    {\"order_ar\": 3, \"order_ma\": 1, \"err_thresh\": 50},\n",
    "    {\"order_ar\": 3, \"order_ma\": 1, \"err_thresh\": 100},\n",
    "    {\"order_ar\": 2, \"order_ma\": 0, \"err_thresh\": 0}\n",
    "]\n",
    "\n",
    "for combo in combos:\n",
    "    # this functions saves the results on some files\n",
    "    train(**combo, tr_data=copy.deepcopy(tr_data), ts_data=ts_data, retrain=True)"
   ],
   "metadata": {
    "collapsed": false,
    "pycharm": {
     "name": "#%%\n"
    }
   }
  },
  {
   "cell_type": "markdown",
   "source": [
    "Check the results"
   ],
   "metadata": {
    "collapsed": false,
    "pycharm": {
     "name": "#%% md\n"
    }
   }
  },
  {
   "cell_type": "code",
   "execution_count": 66,
   "outputs": [],
   "source": [
    "def autolabel(ax, rects):\n",
    "    \"\"\"Attach a text label above each bar in *rects*, displaying its height.\"\"\"\n",
    "    for rect in rects:\n",
    "        height = rect.get_height()\n",
    "        ax.annotate('{}'.format(height),\n",
    "                    xy=(rect.get_x() + rect.get_width() / 2, height),\n",
    "                    xytext=(0, 3),  # 3 points vertical offset\n",
    "                    textcoords=\"offset points\",\n",
    "                    ha='center', va='bottom')\n",
    "\n",
    "\n",
    "# function to make the bar-plots of the results\n",
    "def bar_plots(series, ar_order, arma_ar_order, arma_ma_order):\n",
    "    labels = [f\"AR({ar_order})\", f\"ARMA({arma_ar_order}, {arma_ma_order})\"]\n",
    "    series_list = list(series.values())\n",
    "    series0, series1, series2 = series_list[0], series_list[1], series_list[2]\n",
    "    x = np.arange(len(labels))\n",
    "    bars_width = 0.2\n",
    "    fig, ax = plt.subplots(figsize=(10, 7))\n",
    "    r1 = ax.bar(x - bars_width, series0, bars_width, label=\"Error threshold: \" + str(list(series.keys())[0]))\n",
    "    r2 = ax.bar(x, series1, bars_width, label=\"Error threshold: \" + str(list(series.keys())[1]))\n",
    "    r3 = ax.bar(x + bars_width, series2, bars_width, label=\"Error threshold: \" + str(list(series.keys())[2]))\n",
    "    ax.set_ylabel(\"MAE\")\n",
    "    ax.set_title(\"Mean Absolute Error\")\n",
    "    ax.set_xticks(x)\n",
    "    ax.set_xticklabels(labels)\n",
    "    ax.legend()\n",
    "    autolabel(ax, r1)\n",
    "    autolabel(ax, r2)\n",
    "    autolabel(ax, r3)\n",
    "    # fig.tight_layout()\n",
    "    plt.show()"
   ],
   "metadata": {
    "collapsed": false,
    "pycharm": {
     "name": "#%%\n"
    }
   }
  },
  {
   "cell_type": "code",
   "execution_count": 67,
   "outputs": [
    {
     "data": {
      "text/plain": "<Figure size 720x504 with 1 Axes>",
      "image/png": "[encoded data removed]"
     },
     "metadata": {
      "needs_background": "light"
     },
     "output_type": "display_data"
    }
   ],
   "source": [
    "# read the data from files\n",
    "filenames = [str(c[\"order_ar\"]) + \"_\" + str(c[\"order_ma\"]) + \"_\" + str(c[\"err_thresh\"]) + \"_retrain.json\" for c in combos]\n",
    "try:\n",
    "    filenames.remove(\"2_0_0_retrain.json\")\n",
    "except ValueError:\n",
    "    pass\n",
    "series = {10: [], 50: [], 100: []}\n",
    "for i, fn in enumerate(filenames):\n",
    "    with open(fn, 'r') as f:\n",
    "        mae = json.load(f)\n",
    "        mae = round(mae[\"mae\"], 2)\n",
    "    series[combos[i][\"err_thresh\"]].append(mae)\n",
    "    if i < 3:\n",
    "        ar_order = combos[i][\"order_ma\"]\n",
    "    else:\n",
    "        arma_ar_order = combos[i][\"order_ar\"]\n",
    "        arma_ma_order = combos[i][\"order_ma\"]\n",
    "\n",
    "# call the function to generate the bar-plots\n",
    "bar_plots(series, ar_order, arma_ar_order, arma_ma_order)\n"
   ],
   "metadata": {
    "collapsed": false,
    "pycharm": {
     "name": "#%%\n"
    }
   }
  },
  {
   "cell_type": "markdown",
   "source": [
    "**MA model**:"
   ],
   "metadata": {
    "collapsed": false,
    "pycharm": {
     "name": "#%% md\n"
    }
   }
  },
  {
   "cell_type": "code",
   "execution_count": 14,
   "outputs": [
    {
     "data": {
      "text/plain": "  0%|          | 0/144 [00:00<?, ?it/s]",
      "application/vnd.jupyter.widget-view+json": {
       "version_major": 2,
       "version_minor": 0,
       "model_id": "54478209b42844c5a6f1c92a48b66037"
      }
     },
     "metadata": {},
     "output_type": "display_data"
    },
    {
     "ename": "KeyboardInterrupt",
     "evalue": "",
     "output_type": "error",
     "traceback": [
      "\u001B[1;31m---------------------------------------------------------------------------\u001B[0m",
      "\u001B[1;31mKeyboardInterrupt\u001B[0m                         Traceback (most recent call last)",
      "\u001B[1;32m<ipython-input-14-52b71a792000>\u001B[0m in \u001B[0;36m<module>\u001B[1;34m\u001B[0m\n\u001B[0;32m      6\u001B[0m     \u001B[0mtr_data\u001B[0m \u001B[1;33m=\u001B[0m \u001B[0mnp\u001B[0m\u001B[1;33m.\u001B[0m\u001B[0mconcatenate\u001B[0m\u001B[1;33m(\u001B[0m\u001B[1;33m(\u001B[0m\u001B[0mtr_data\u001B[0m\u001B[1;33m,\u001B[0m \u001B[1;33m[\u001B[0m\u001B[0mts_data\u001B[0m\u001B[1;33m[\u001B[0m\u001B[0mi\u001B[0m\u001B[1;33m]\u001B[0m\u001B[1;33m]\u001B[0m\u001B[1;33m)\u001B[0m\u001B[1;33m)\u001B[0m\u001B[1;33m\u001B[0m\u001B[1;33m\u001B[0m\u001B[0m\n\u001B[0;32m      7\u001B[0m     \u001B[0mma\u001B[0m \u001B[1;33m=\u001B[0m \u001B[0mARIMA\u001B[0m\u001B[1;33m(\u001B[0m\u001B[0mendog\u001B[0m\u001B[1;33m=\u001B[0m\u001B[0mtr_data\u001B[0m\u001B[1;33m,\u001B[0m \u001B[0morder\u001B[0m\u001B[1;33m=\u001B[0m\u001B[1;33m(\u001B[0m\u001B[1;36m0\u001B[0m\u001B[1;33m,\u001B[0m \u001B[1;36m0\u001B[0m\u001B[1;33m,\u001B[0m \u001B[0mma_order\u001B[0m\u001B[1;33m)\u001B[0m\u001B[1;33m)\u001B[0m\u001B[1;33m\u001B[0m\u001B[1;33m\u001B[0m\u001B[0m\n\u001B[1;32m----> 8\u001B[1;33m     \u001B[0mres_ma\u001B[0m \u001B[1;33m=\u001B[0m \u001B[0mma\u001B[0m\u001B[1;33m.\u001B[0m\u001B[0mfit\u001B[0m\u001B[1;33m(\u001B[0m\u001B[1;33m)\u001B[0m\u001B[1;33m\u001B[0m\u001B[1;33m\u001B[0m\u001B[0m\n\u001B[0m\u001B[0;32m      9\u001B[0m \u001B[1;33m\u001B[0m\u001B[0m\n\u001B[0;32m     10\u001B[0m \u001B[0mmae\u001B[0m \u001B[1;33m=\u001B[0m \u001B[0mnp\u001B[0m\u001B[1;33m.\u001B[0m\u001B[0mmean\u001B[0m\u001B[1;33m(\u001B[0m\u001B[0mnp\u001B[0m\u001B[1;33m.\u001B[0m\u001B[0mabs\u001B[0m\u001B[1;33m(\u001B[0m\u001B[0mnp\u001B[0m\u001B[1;33m.\u001B[0m\u001B[0msubtract\u001B[0m\u001B[1;33m(\u001B[0m\u001B[0mpredictions\u001B[0m\u001B[1;33m,\u001B[0m \u001B[0mts_data\u001B[0m\u001B[1;33m[\u001B[0m\u001B[1;33m:\u001B[0m\u001B[1;36m24\u001B[0m\u001B[1;33m*\u001B[0m\u001B[1;36m6\u001B[0m\u001B[1;33m]\u001B[0m\u001B[1;33m)\u001B[0m\u001B[1;33m)\u001B[0m\u001B[1;33m)\u001B[0m\u001B[1;33m\u001B[0m\u001B[1;33m\u001B[0m\u001B[0m\n",
      "\u001B[1;32md:\\projects\\ispr-midterms\\venv\\lib\\site-packages\\statsmodels\\tsa\\arima\\model.py\u001B[0m in \u001B[0;36mfit\u001B[1;34m(self, start_params, transformed, includes_fixed, method, method_kwargs, gls, gls_kwargs, cov_type, cov_kwds, return_params, low_memory)\u001B[0m\n\u001B[0;32m    359\u001B[0m                 \u001B[0mmethod_kwargs\u001B[0m\u001B[1;33m.\u001B[0m\u001B[0msetdefault\u001B[0m\u001B[1;33m(\u001B[0m\u001B[1;34m'disp'\u001B[0m\u001B[1;33m,\u001B[0m \u001B[1;36m0\u001B[0m\u001B[1;33m)\u001B[0m\u001B[1;33m\u001B[0m\u001B[1;33m\u001B[0m\u001B[0m\n\u001B[0;32m    360\u001B[0m \u001B[1;33m\u001B[0m\u001B[0m\n\u001B[1;32m--> 361\u001B[1;33m                 res = super(ARIMA, self).fit(\n\u001B[0m\u001B[0;32m    362\u001B[0m                     \u001B[0mreturn_params\u001B[0m\u001B[1;33m=\u001B[0m\u001B[0mreturn_params\u001B[0m\u001B[1;33m,\u001B[0m \u001B[0mlow_memory\u001B[0m\u001B[1;33m=\u001B[0m\u001B[0mlow_memory\u001B[0m\u001B[1;33m,\u001B[0m\u001B[1;33m\u001B[0m\u001B[1;33m\u001B[0m\u001B[0m\n\u001B[0;32m    363\u001B[0m                     cov_type=cov_type, cov_kwds=cov_kwds, **method_kwargs)\n",
      "\u001B[1;32md:\\projects\\ispr-midterms\\venv\\lib\\site-packages\\statsmodels\\tsa\\statespace\\mlemodel.py\u001B[0m in \u001B[0;36mfit\u001B[1;34m(self, start_params, transformed, includes_fixed, cov_type, cov_kwds, method, maxiter, full_output, disp, callback, return_params, optim_score, optim_complex_step, optim_hessian, flags, low_memory, **kwargs)\u001B[0m\n\u001B[0;32m    688\u001B[0m                 \u001B[0mflags\u001B[0m\u001B[1;33m[\u001B[0m\u001B[1;34m'hessian_method'\u001B[0m\u001B[1;33m]\u001B[0m \u001B[1;33m=\u001B[0m \u001B[0moptim_hessian\u001B[0m\u001B[1;33m\u001B[0m\u001B[1;33m\u001B[0m\u001B[0m\n\u001B[0;32m    689\u001B[0m             \u001B[0mfargs\u001B[0m \u001B[1;33m=\u001B[0m \u001B[1;33m(\u001B[0m\u001B[0mflags\u001B[0m\u001B[1;33m,\u001B[0m\u001B[1;33m)\u001B[0m\u001B[1;33m\u001B[0m\u001B[1;33m\u001B[0m\u001B[0m\n\u001B[1;32m--> 690\u001B[1;33m             mlefit = super(MLEModel, self).fit(start_params, method=method,\n\u001B[0m\u001B[0;32m    691\u001B[0m                                                \u001B[0mfargs\u001B[0m\u001B[1;33m=\u001B[0m\u001B[0mfargs\u001B[0m\u001B[1;33m,\u001B[0m\u001B[1;33m\u001B[0m\u001B[1;33m\u001B[0m\u001B[0m\n\u001B[0;32m    692\u001B[0m                                                \u001B[0mmaxiter\u001B[0m\u001B[1;33m=\u001B[0m\u001B[0mmaxiter\u001B[0m\u001B[1;33m,\u001B[0m\u001B[1;33m\u001B[0m\u001B[1;33m\u001B[0m\u001B[0m\n",
      "\u001B[1;32md:\\projects\\ispr-midterms\\venv\\lib\\site-packages\\statsmodels\\base\\model.py\u001B[0m in \u001B[0;36mfit\u001B[1;34m(self, start_params, method, maxiter, full_output, disp, fargs, callback, retall, skip_hessian, **kwargs)\u001B[0m\n\u001B[0;32m    517\u001B[0m         \u001B[0mwarn_convergence\u001B[0m \u001B[1;33m=\u001B[0m \u001B[0mkwargs\u001B[0m\u001B[1;33m.\u001B[0m\u001B[0mpop\u001B[0m\u001B[1;33m(\u001B[0m\u001B[1;34m'warn_convergence'\u001B[0m\u001B[1;33m,\u001B[0m \u001B[1;32mTrue\u001B[0m\u001B[1;33m)\u001B[0m\u001B[1;33m\u001B[0m\u001B[1;33m\u001B[0m\u001B[0m\n\u001B[0;32m    518\u001B[0m         \u001B[0moptimizer\u001B[0m \u001B[1;33m=\u001B[0m \u001B[0mOptimizer\u001B[0m\u001B[1;33m(\u001B[0m\u001B[1;33m)\u001B[0m\u001B[1;33m\u001B[0m\u001B[1;33m\u001B[0m\u001B[0m\n\u001B[1;32m--> 519\u001B[1;33m         xopt, retvals, optim_settings = optimizer._fit(f, score, start_params,\n\u001B[0m\u001B[0;32m    520\u001B[0m                                                        \u001B[0mfargs\u001B[0m\u001B[1;33m,\u001B[0m \u001B[0mkwargs\u001B[0m\u001B[1;33m,\u001B[0m\u001B[1;33m\u001B[0m\u001B[1;33m\u001B[0m\u001B[0m\n\u001B[0;32m    521\u001B[0m                                                        \u001B[0mhessian\u001B[0m\u001B[1;33m=\u001B[0m\u001B[0mhess\u001B[0m\u001B[1;33m,\u001B[0m\u001B[1;33m\u001B[0m\u001B[1;33m\u001B[0m\u001B[0m\n",
      "\u001B[1;32md:\\projects\\ispr-midterms\\venv\\lib\\site-packages\\statsmodels\\base\\optimizer.py\u001B[0m in \u001B[0;36m_fit\u001B[1;34m(self, objective, gradient, start_params, fargs, kwargs, hessian, method, maxiter, full_output, disp, callback, retall)\u001B[0m\n\u001B[0;32m    222\u001B[0m \u001B[1;33m\u001B[0m\u001B[0m\n\u001B[0;32m    223\u001B[0m         \u001B[0mfunc\u001B[0m \u001B[1;33m=\u001B[0m \u001B[0mfit_funcs\u001B[0m\u001B[1;33m[\u001B[0m\u001B[0mmethod\u001B[0m\u001B[1;33m]\u001B[0m\u001B[1;33m\u001B[0m\u001B[1;33m\u001B[0m\u001B[0m\n\u001B[1;32m--> 224\u001B[1;33m         xopt, retvals = func(objective, gradient, start_params, fargs, kwargs,\n\u001B[0m\u001B[0;32m    225\u001B[0m                             \u001B[0mdisp\u001B[0m\u001B[1;33m=\u001B[0m\u001B[0mdisp\u001B[0m\u001B[1;33m,\u001B[0m \u001B[0mmaxiter\u001B[0m\u001B[1;33m=\u001B[0m\u001B[0mmaxiter\u001B[0m\u001B[1;33m,\u001B[0m \u001B[0mcallback\u001B[0m\u001B[1;33m=\u001B[0m\u001B[0mcallback\u001B[0m\u001B[1;33m,\u001B[0m\u001B[1;33m\u001B[0m\u001B[1;33m\u001B[0m\u001B[0m\n\u001B[0;32m    226\u001B[0m                             \u001B[0mretall\u001B[0m\u001B[1;33m=\u001B[0m\u001B[0mretall\u001B[0m\u001B[1;33m,\u001B[0m \u001B[0mfull_output\u001B[0m\u001B[1;33m=\u001B[0m\u001B[0mfull_output\u001B[0m\u001B[1;33m,\u001B[0m\u001B[1;33m\u001B[0m\u001B[1;33m\u001B[0m\u001B[0m\n",
      "\u001B[1;32md:\\projects\\ispr-midterms\\venv\\lib\\site-packages\\statsmodels\\base\\optimizer.py\u001B[0m in \u001B[0;36m_fit_lbfgs\u001B[1;34m(f, score, start_params, fargs, kwargs, disp, maxiter, callback, retall, full_output, hess)\u001B[0m\n\u001B[0;32m    627\u001B[0m         \u001B[0mfunc\u001B[0m \u001B[1;33m=\u001B[0m \u001B[0mf\u001B[0m\u001B[1;33m\u001B[0m\u001B[1;33m\u001B[0m\u001B[0m\n\u001B[0;32m    628\u001B[0m \u001B[1;33m\u001B[0m\u001B[0m\n\u001B[1;32m--> 629\u001B[1;33m     retvals = optimize.fmin_l_bfgs_b(func, start_params, maxiter=maxiter,\n\u001B[0m\u001B[0;32m    630\u001B[0m                                      \u001B[0mcallback\u001B[0m\u001B[1;33m=\u001B[0m\u001B[0mcallback\u001B[0m\u001B[1;33m,\u001B[0m \u001B[0margs\u001B[0m\u001B[1;33m=\u001B[0m\u001B[0mfargs\u001B[0m\u001B[1;33m,\u001B[0m\u001B[1;33m\u001B[0m\u001B[1;33m\u001B[0m\u001B[0m\n\u001B[0;32m    631\u001B[0m                                      \u001B[0mbounds\u001B[0m\u001B[1;33m=\u001B[0m\u001B[0mbounds\u001B[0m\u001B[1;33m,\u001B[0m \u001B[0mdisp\u001B[0m\u001B[1;33m=\u001B[0m\u001B[0mdisp\u001B[0m\u001B[1;33m,\u001B[0m\u001B[1;33m\u001B[0m\u001B[1;33m\u001B[0m\u001B[0m\n",
      "\u001B[1;32md:\\projects\\ispr-midterms\\venv\\lib\\site-packages\\scipy\\optimize\\lbfgsb.py\u001B[0m in \u001B[0;36mfmin_l_bfgs_b\u001B[1;34m(func, x0, fprime, args, approx_grad, bounds, m, factr, pgtol, epsilon, iprint, maxfun, maxiter, disp, callback, maxls)\u001B[0m\n\u001B[0;32m    195\u001B[0m             'maxls': maxls}\n\u001B[0;32m    196\u001B[0m \u001B[1;33m\u001B[0m\u001B[0m\n\u001B[1;32m--> 197\u001B[1;33m     res = _minimize_lbfgsb(fun, x0, args=args, jac=jac, bounds=bounds,\n\u001B[0m\u001B[0;32m    198\u001B[0m                            **opts)\n\u001B[0;32m    199\u001B[0m     d = {'grad': res['jac'],\n",
      "\u001B[1;32md:\\projects\\ispr-midterms\\venv\\lib\\site-packages\\scipy\\optimize\\lbfgsb.py\u001B[0m in \u001B[0;36m_minimize_lbfgsb\u001B[1;34m(fun, x0, args, jac, bounds, disp, maxcor, ftol, gtol, eps, maxfun, maxiter, iprint, callback, maxls, finite_diff_rel_step, **unknown_options)\u001B[0m\n\u001B[0;32m    358\u001B[0m             \u001B[1;31m# until the completion of the current minimization iteration.\u001B[0m\u001B[1;33m\u001B[0m\u001B[1;33m\u001B[0m\u001B[1;33m\u001B[0m\u001B[0m\n\u001B[0;32m    359\u001B[0m             \u001B[1;31m# Overwrite f and g:\u001B[0m\u001B[1;33m\u001B[0m\u001B[1;33m\u001B[0m\u001B[1;33m\u001B[0m\u001B[0m\n\u001B[1;32m--> 360\u001B[1;33m             \u001B[0mf\u001B[0m\u001B[1;33m,\u001B[0m \u001B[0mg\u001B[0m \u001B[1;33m=\u001B[0m \u001B[0mfunc_and_grad\u001B[0m\u001B[1;33m(\u001B[0m\u001B[0mx\u001B[0m\u001B[1;33m)\u001B[0m\u001B[1;33m\u001B[0m\u001B[1;33m\u001B[0m\u001B[0m\n\u001B[0m\u001B[0;32m    361\u001B[0m         \u001B[1;32melif\u001B[0m \u001B[0mtask_str\u001B[0m\u001B[1;33m.\u001B[0m\u001B[0mstartswith\u001B[0m\u001B[1;33m(\u001B[0m\u001B[1;34mb'NEW_X'\u001B[0m\u001B[1;33m)\u001B[0m\u001B[1;33m:\u001B[0m\u001B[1;33m\u001B[0m\u001B[1;33m\u001B[0m\u001B[0m\n\u001B[0;32m    362\u001B[0m             \u001B[1;31m# new iteration\u001B[0m\u001B[1;33m\u001B[0m\u001B[1;33m\u001B[0m\u001B[1;33m\u001B[0m\u001B[0m\n",
      "\u001B[1;32md:\\projects\\ispr-midterms\\venv\\lib\\site-packages\\scipy\\optimize\\_differentiable_functions.py\u001B[0m in \u001B[0;36mfun_and_grad\u001B[1;34m(self, x)\u001B[0m\n\u001B[0;32m    259\u001B[0m             \u001B[0mself\u001B[0m\u001B[1;33m.\u001B[0m\u001B[0m_update_x_impl\u001B[0m\u001B[1;33m(\u001B[0m\u001B[0mx\u001B[0m\u001B[1;33m)\u001B[0m\u001B[1;33m\u001B[0m\u001B[1;33m\u001B[0m\u001B[0m\n\u001B[0;32m    260\u001B[0m         \u001B[0mself\u001B[0m\u001B[1;33m.\u001B[0m\u001B[0m_update_fun\u001B[0m\u001B[1;33m(\u001B[0m\u001B[1;33m)\u001B[0m\u001B[1;33m\u001B[0m\u001B[1;33m\u001B[0m\u001B[0m\n\u001B[1;32m--> 261\u001B[1;33m         \u001B[0mself\u001B[0m\u001B[1;33m.\u001B[0m\u001B[0m_update_grad\u001B[0m\u001B[1;33m(\u001B[0m\u001B[1;33m)\u001B[0m\u001B[1;33m\u001B[0m\u001B[1;33m\u001B[0m\u001B[0m\n\u001B[0m\u001B[0;32m    262\u001B[0m         \u001B[1;32mreturn\u001B[0m \u001B[0mself\u001B[0m\u001B[1;33m.\u001B[0m\u001B[0mf\u001B[0m\u001B[1;33m,\u001B[0m \u001B[0mself\u001B[0m\u001B[1;33m.\u001B[0m\u001B[0mg\u001B[0m\u001B[1;33m\u001B[0m\u001B[1;33m\u001B[0m\u001B[0m\n\u001B[0;32m    263\u001B[0m \u001B[1;33m\u001B[0m\u001B[0m\n",
      "\u001B[1;32md:\\projects\\ispr-midterms\\venv\\lib\\site-packages\\scipy\\optimize\\_differentiable_functions.py\u001B[0m in \u001B[0;36m_update_grad\u001B[1;34m(self)\u001B[0m\n\u001B[0;32m    229\u001B[0m     \u001B[1;32mdef\u001B[0m \u001B[0m_update_grad\u001B[0m\u001B[1;33m(\u001B[0m\u001B[0mself\u001B[0m\u001B[1;33m)\u001B[0m\u001B[1;33m:\u001B[0m\u001B[1;33m\u001B[0m\u001B[1;33m\u001B[0m\u001B[0m\n\u001B[0;32m    230\u001B[0m         \u001B[1;32mif\u001B[0m \u001B[1;32mnot\u001B[0m \u001B[0mself\u001B[0m\u001B[1;33m.\u001B[0m\u001B[0mg_updated\u001B[0m\u001B[1;33m:\u001B[0m\u001B[1;33m\u001B[0m\u001B[1;33m\u001B[0m\u001B[0m\n\u001B[1;32m--> 231\u001B[1;33m             \u001B[0mself\u001B[0m\u001B[1;33m.\u001B[0m\u001B[0m_update_grad_impl\u001B[0m\u001B[1;33m(\u001B[0m\u001B[1;33m)\u001B[0m\u001B[1;33m\u001B[0m\u001B[1;33m\u001B[0m\u001B[0m\n\u001B[0m\u001B[0;32m    232\u001B[0m             \u001B[0mself\u001B[0m\u001B[1;33m.\u001B[0m\u001B[0mg_updated\u001B[0m \u001B[1;33m=\u001B[0m \u001B[1;32mTrue\u001B[0m\u001B[1;33m\u001B[0m\u001B[1;33m\u001B[0m\u001B[0m\n\u001B[0;32m    233\u001B[0m \u001B[1;33m\u001B[0m\u001B[0m\n",
      "\u001B[1;32md:\\projects\\ispr-midterms\\venv\\lib\\site-packages\\scipy\\optimize\\_differentiable_functions.py\u001B[0m in \u001B[0;36mupdate_grad\u001B[1;34m()\u001B[0m\n\u001B[0;32m    149\u001B[0m                 \u001B[0mself\u001B[0m\u001B[1;33m.\u001B[0m\u001B[0m_update_fun\u001B[0m\u001B[1;33m(\u001B[0m\u001B[1;33m)\u001B[0m\u001B[1;33m\u001B[0m\u001B[1;33m\u001B[0m\u001B[0m\n\u001B[0;32m    150\u001B[0m                 \u001B[0mself\u001B[0m\u001B[1;33m.\u001B[0m\u001B[0mngev\u001B[0m \u001B[1;33m+=\u001B[0m \u001B[1;36m1\u001B[0m\u001B[1;33m\u001B[0m\u001B[1;33m\u001B[0m\u001B[0m\n\u001B[1;32m--> 151\u001B[1;33m                 self.g = approx_derivative(fun_wrapped, self.x, f0=self.f,\n\u001B[0m\u001B[0;32m    152\u001B[0m                                            **finite_diff_options)\n\u001B[0;32m    153\u001B[0m \u001B[1;33m\u001B[0m\u001B[0m\n",
      "\u001B[1;32md:\\projects\\ispr-midterms\\venv\\lib\\site-packages\\scipy\\optimize\\_numdiff.py\u001B[0m in \u001B[0;36mapprox_derivative\u001B[1;34m(fun, x0, method, rel_step, abs_step, f0, bounds, sparsity, as_linear_operator, args, kwargs)\u001B[0m\n\u001B[0;32m    484\u001B[0m \u001B[1;33m\u001B[0m\u001B[0m\n\u001B[0;32m    485\u001B[0m         \u001B[1;32mif\u001B[0m \u001B[0msparsity\u001B[0m \u001B[1;32mis\u001B[0m \u001B[1;32mNone\u001B[0m\u001B[1;33m:\u001B[0m\u001B[1;33m\u001B[0m\u001B[1;33m\u001B[0m\u001B[0m\n\u001B[1;32m--> 486\u001B[1;33m             return _dense_difference(fun_wrapped, x0, f0, h,\n\u001B[0m\u001B[0;32m    487\u001B[0m                                      use_one_sided, method)\n\u001B[0;32m    488\u001B[0m         \u001B[1;32melse\u001B[0m\u001B[1;33m:\u001B[0m\u001B[1;33m\u001B[0m\u001B[1;33m\u001B[0m\u001B[0m\n",
      "\u001B[1;32md:\\projects\\ispr-midterms\\venv\\lib\\site-packages\\scipy\\optimize\\_numdiff.py\u001B[0m in \u001B[0;36m_dense_difference\u001B[1;34m(fun, x0, f0, h, use_one_sided, method)\u001B[0m\n\u001B[0;32m    555\u001B[0m             \u001B[0mx\u001B[0m \u001B[1;33m=\u001B[0m \u001B[0mx0\u001B[0m \u001B[1;33m+\u001B[0m \u001B[0mh_vecs\u001B[0m\u001B[1;33m[\u001B[0m\u001B[0mi\u001B[0m\u001B[1;33m]\u001B[0m\u001B[1;33m\u001B[0m\u001B[1;33m\u001B[0m\u001B[0m\n\u001B[0;32m    556\u001B[0m             \u001B[0mdx\u001B[0m \u001B[1;33m=\u001B[0m \u001B[0mx\u001B[0m\u001B[1;33m[\u001B[0m\u001B[0mi\u001B[0m\u001B[1;33m]\u001B[0m \u001B[1;33m-\u001B[0m \u001B[0mx0\u001B[0m\u001B[1;33m[\u001B[0m\u001B[0mi\u001B[0m\u001B[1;33m]\u001B[0m  \u001B[1;31m# Recompute dx as exactly representable number.\u001B[0m\u001B[1;33m\u001B[0m\u001B[1;33m\u001B[0m\u001B[0m\n\u001B[1;32m--> 557\u001B[1;33m             \u001B[0mdf\u001B[0m \u001B[1;33m=\u001B[0m \u001B[0mfun\u001B[0m\u001B[1;33m(\u001B[0m\u001B[0mx\u001B[0m\u001B[1;33m)\u001B[0m \u001B[1;33m-\u001B[0m \u001B[0mf0\u001B[0m\u001B[1;33m\u001B[0m\u001B[1;33m\u001B[0m\u001B[0m\n\u001B[0m\u001B[0;32m    558\u001B[0m         \u001B[1;32melif\u001B[0m \u001B[0mmethod\u001B[0m \u001B[1;33m==\u001B[0m \u001B[1;34m'3-point'\u001B[0m \u001B[1;32mand\u001B[0m \u001B[0muse_one_sided\u001B[0m\u001B[1;33m[\u001B[0m\u001B[0mi\u001B[0m\u001B[1;33m]\u001B[0m\u001B[1;33m:\u001B[0m\u001B[1;33m\u001B[0m\u001B[1;33m\u001B[0m\u001B[0m\n\u001B[0;32m    559\u001B[0m             \u001B[0mx1\u001B[0m \u001B[1;33m=\u001B[0m \u001B[0mx0\u001B[0m \u001B[1;33m+\u001B[0m \u001B[0mh_vecs\u001B[0m\u001B[1;33m[\u001B[0m\u001B[0mi\u001B[0m\u001B[1;33m]\u001B[0m\u001B[1;33m\u001B[0m\u001B[1;33m\u001B[0m\u001B[0m\n",
      "\u001B[1;32md:\\projects\\ispr-midterms\\venv\\lib\\site-packages\\scipy\\optimize\\_numdiff.py\u001B[0m in \u001B[0;36mfun_wrapped\u001B[1;34m(x)\u001B[0m\n\u001B[0;32m    435\u001B[0m \u001B[1;33m\u001B[0m\u001B[0m\n\u001B[0;32m    436\u001B[0m     \u001B[1;32mdef\u001B[0m \u001B[0mfun_wrapped\u001B[0m\u001B[1;33m(\u001B[0m\u001B[0mx\u001B[0m\u001B[1;33m)\u001B[0m\u001B[1;33m:\u001B[0m\u001B[1;33m\u001B[0m\u001B[1;33m\u001B[0m\u001B[0m\n\u001B[1;32m--> 437\u001B[1;33m         \u001B[0mf\u001B[0m \u001B[1;33m=\u001B[0m \u001B[0mnp\u001B[0m\u001B[1;33m.\u001B[0m\u001B[0matleast_1d\u001B[0m\u001B[1;33m(\u001B[0m\u001B[0mfun\u001B[0m\u001B[1;33m(\u001B[0m\u001B[0mx\u001B[0m\u001B[1;33m,\u001B[0m \u001B[1;33m*\u001B[0m\u001B[0margs\u001B[0m\u001B[1;33m,\u001B[0m \u001B[1;33m**\u001B[0m\u001B[0mkwargs\u001B[0m\u001B[1;33m)\u001B[0m\u001B[1;33m)\u001B[0m\u001B[1;33m\u001B[0m\u001B[1;33m\u001B[0m\u001B[0m\n\u001B[0m\u001B[0;32m    438\u001B[0m         \u001B[1;32mif\u001B[0m \u001B[0mf\u001B[0m\u001B[1;33m.\u001B[0m\u001B[0mndim\u001B[0m \u001B[1;33m>\u001B[0m \u001B[1;36m1\u001B[0m\u001B[1;33m:\u001B[0m\u001B[1;33m\u001B[0m\u001B[1;33m\u001B[0m\u001B[0m\n\u001B[0;32m    439\u001B[0m             raise RuntimeError(\"`fun` return value has \"\n",
      "\u001B[1;32md:\\projects\\ispr-midterms\\venv\\lib\\site-packages\\scipy\\optimize\\_differentiable_functions.py\u001B[0m in \u001B[0;36mfun_wrapped\u001B[1;34m(x)\u001B[0m\n\u001B[0;32m    128\u001B[0m         \u001B[1;32mdef\u001B[0m \u001B[0mfun_wrapped\u001B[0m\u001B[1;33m(\u001B[0m\u001B[0mx\u001B[0m\u001B[1;33m)\u001B[0m\u001B[1;33m:\u001B[0m\u001B[1;33m\u001B[0m\u001B[1;33m\u001B[0m\u001B[0m\n\u001B[0;32m    129\u001B[0m             \u001B[0mself\u001B[0m\u001B[1;33m.\u001B[0m\u001B[0mnfev\u001B[0m \u001B[1;33m+=\u001B[0m \u001B[1;36m1\u001B[0m\u001B[1;33m\u001B[0m\u001B[1;33m\u001B[0m\u001B[0m\n\u001B[1;32m--> 130\u001B[1;33m             \u001B[1;32mreturn\u001B[0m \u001B[0mfun\u001B[0m\u001B[1;33m(\u001B[0m\u001B[0mx\u001B[0m\u001B[1;33m,\u001B[0m \u001B[1;33m*\u001B[0m\u001B[0margs\u001B[0m\u001B[1;33m)\u001B[0m\u001B[1;33m\u001B[0m\u001B[1;33m\u001B[0m\u001B[0m\n\u001B[0m\u001B[0;32m    131\u001B[0m \u001B[1;33m\u001B[0m\u001B[0m\n\u001B[0;32m    132\u001B[0m         \u001B[1;32mdef\u001B[0m \u001B[0mupdate_fun\u001B[0m\u001B[1;33m(\u001B[0m\u001B[1;33m)\u001B[0m\u001B[1;33m:\u001B[0m\u001B[1;33m\u001B[0m\u001B[1;33m\u001B[0m\u001B[0m\n",
      "\u001B[1;32md:\\projects\\ispr-midterms\\venv\\lib\\site-packages\\statsmodels\\base\\model.py\u001B[0m in \u001B[0;36mf\u001B[1;34m(params, *args)\u001B[0m\n\u001B[0;32m    499\u001B[0m \u001B[1;33m\u001B[0m\u001B[0m\n\u001B[0;32m    500\u001B[0m         \u001B[1;32mdef\u001B[0m \u001B[0mf\u001B[0m\u001B[1;33m(\u001B[0m\u001B[0mparams\u001B[0m\u001B[1;33m,\u001B[0m \u001B[1;33m*\u001B[0m\u001B[0margs\u001B[0m\u001B[1;33m)\u001B[0m\u001B[1;33m:\u001B[0m\u001B[1;33m\u001B[0m\u001B[1;33m\u001B[0m\u001B[0m\n\u001B[1;32m--> 501\u001B[1;33m             \u001B[1;32mreturn\u001B[0m \u001B[1;33m-\u001B[0m\u001B[0mself\u001B[0m\u001B[1;33m.\u001B[0m\u001B[0mloglike\u001B[0m\u001B[1;33m(\u001B[0m\u001B[0mparams\u001B[0m\u001B[1;33m,\u001B[0m \u001B[1;33m*\u001B[0m\u001B[0margs\u001B[0m\u001B[1;33m)\u001B[0m \u001B[1;33m/\u001B[0m \u001B[0mnobs\u001B[0m\u001B[1;33m\u001B[0m\u001B[1;33m\u001B[0m\u001B[0m\n\u001B[0m\u001B[0;32m    502\u001B[0m \u001B[1;33m\u001B[0m\u001B[0m\n\u001B[0;32m    503\u001B[0m         \u001B[1;32mif\u001B[0m \u001B[0mmethod\u001B[0m \u001B[1;33m==\u001B[0m \u001B[1;34m'newton'\u001B[0m\u001B[1;33m:\u001B[0m\u001B[1;33m\u001B[0m\u001B[1;33m\u001B[0m\u001B[0m\n",
      "\u001B[1;32md:\\projects\\ispr-midterms\\venv\\lib\\site-packages\\statsmodels\\tsa\\statespace\\mlemodel.py\u001B[0m in \u001B[0;36mloglike\u001B[1;34m(self, params, *args, **kwargs)\u001B[0m\n\u001B[0;32m    923\u001B[0m             \u001B[0mkwargs\u001B[0m\u001B[1;33m[\u001B[0m\u001B[1;34m'inversion_method'\u001B[0m\u001B[1;33m]\u001B[0m \u001B[1;33m=\u001B[0m \u001B[0mINVERT_UNIVARIATE\u001B[0m \u001B[1;33m|\u001B[0m \u001B[0mSOLVE_LU\u001B[0m\u001B[1;33m\u001B[0m\u001B[1;33m\u001B[0m\u001B[0m\n\u001B[0;32m    924\u001B[0m \u001B[1;33m\u001B[0m\u001B[0m\n\u001B[1;32m--> 925\u001B[1;33m         \u001B[0mloglike\u001B[0m \u001B[1;33m=\u001B[0m \u001B[0mself\u001B[0m\u001B[1;33m.\u001B[0m\u001B[0mssm\u001B[0m\u001B[1;33m.\u001B[0m\u001B[0mloglike\u001B[0m\u001B[1;33m(\u001B[0m\u001B[0mcomplex_step\u001B[0m\u001B[1;33m=\u001B[0m\u001B[0mcomplex_step\u001B[0m\u001B[1;33m,\u001B[0m \u001B[1;33m**\u001B[0m\u001B[0mkwargs\u001B[0m\u001B[1;33m)\u001B[0m\u001B[1;33m\u001B[0m\u001B[1;33m\u001B[0m\u001B[0m\n\u001B[0m\u001B[0;32m    926\u001B[0m \u001B[1;33m\u001B[0m\u001B[0m\n\u001B[0;32m    927\u001B[0m         \u001B[1;31m# Koopman, Shephard, and Doornik recommend maximizing the average\u001B[0m\u001B[1;33m\u001B[0m\u001B[1;33m\u001B[0m\u001B[1;33m\u001B[0m\u001B[0m\n",
      "\u001B[1;32md:\\projects\\ispr-midterms\\venv\\lib\\site-packages\\statsmodels\\tsa\\statespace\\kalman_filter.py\u001B[0m in \u001B[0;36mloglike\u001B[1;34m(self, **kwargs)\u001B[0m\n\u001B[0;32m    981\u001B[0m         kwargs.setdefault('conserve_memory',\n\u001B[0;32m    982\u001B[0m                           MEMORY_CONSERVE ^ MEMORY_NO_LIKELIHOOD)\n\u001B[1;32m--> 983\u001B[1;33m         \u001B[0mkfilter\u001B[0m \u001B[1;33m=\u001B[0m \u001B[0mself\u001B[0m\u001B[1;33m.\u001B[0m\u001B[0m_filter\u001B[0m\u001B[1;33m(\u001B[0m\u001B[1;33m**\u001B[0m\u001B[0mkwargs\u001B[0m\u001B[1;33m)\u001B[0m\u001B[1;33m\u001B[0m\u001B[1;33m\u001B[0m\u001B[0m\n\u001B[0m\u001B[0;32m    984\u001B[0m         loglikelihood_burn = kwargs.get('loglikelihood_burn',\n\u001B[0;32m    985\u001B[0m                                         self.loglikelihood_burn)\n",
      "\u001B[1;31mKeyboardInterrupt\u001B[0m: "
     ]
    }
   ],
   "source": [
    "# _, tr_data, ts_data = read_data()\n",
    "# err = 0\n",
    "# predictions = []\n",
    "# for i in tqdm(range(24*6)):\n",
    "#     predictions.append(res_ma.forecast(steps=1))\n",
    "#     tr_data = np.concatenate((tr_data, [ts_data[i]]))\n",
    "#     ma = ARIMA(endog=tr_data, order=(0, 0, ma_order))\n",
    "#     res_ma = ma.fit()\n",
    "#\n",
    "# mae = np.mean(np.abs(np.subtract(predictions, ts_data[:24*6])))\n",
    "# print(\"MAE: \", mae)\n",
    "# plt.plot(ts_data[:24*6], label=\"Test data\")\n",
    "# plt.plot(predictions, label=\"Predictions\")\n",
    "# plt.legend()\n",
    "# plt.show()"
   ],
   "metadata": {
    "collapsed": false,
    "pycharm": {
     "name": "#%%\n"
    }
   }
  },
  {
   "cell_type": "markdown",
   "source": [
    "**ARMA model**:"
   ],
   "metadata": {
    "collapsed": false
   }
  },
  {
   "cell_type": "code",
   "execution_count": 14,
   "outputs": [
    {
     "data": {
      "text/plain": "  0%|          | 0/144 [00:00<?, ?it/s]",
      "application/vnd.jupyter.widget-view+json": {
       "version_major": 2,
       "version_minor": 0,
       "model_id": "c628476323e142c88cba13744dd1377c"
      }
     },
     "metadata": {},
     "output_type": "display_data"
    },
    {
     "name": "stderr",
     "output_type": "stream",
     "text": [
      "d:\\projects\\ispr-midterms\\venv\\lib\\site-packages\\statsmodels\\tsa\\statespace\\sarimax.py:966: UserWarning: Non-stationary starting autoregressive parameters found. Using zeros as starting parameters.\n",
      "  warn('Non-stationary starting autoregressive parameters'\n",
      "d:\\projects\\ispr-midterms\\venv\\lib\\site-packages\\statsmodels\\tsa\\statespace\\sarimax.py:978: UserWarning: Non-invertible starting MA parameters found. Using zeros as starting parameters.\n",
      "  warn('Non-invertible starting MA parameters found.'\n"
     ]
    },
    {
     "ename": "KeyboardInterrupt",
     "evalue": "",
     "output_type": "error",
     "traceback": [
      "\u001B[1;31m---------------------------------------------------------------------------\u001B[0m",
      "\u001B[1;31mKeyboardInterrupt\u001B[0m                         Traceback (most recent call last)",
      "\u001B[1;32m<ipython-input-14-56d01d411708>\u001B[0m in \u001B[0;36m<module>\u001B[1;34m\u001B[0m\n\u001B[0;32m      5\u001B[0m     \u001B[0mtr_data\u001B[0m \u001B[1;33m=\u001B[0m \u001B[0mnp\u001B[0m\u001B[1;33m.\u001B[0m\u001B[0mconcatenate\u001B[0m\u001B[1;33m(\u001B[0m\u001B[1;33m(\u001B[0m\u001B[0mtr_data\u001B[0m\u001B[1;33m,\u001B[0m \u001B[1;33m[\u001B[0m\u001B[0mts_data\u001B[0m\u001B[1;33m[\u001B[0m\u001B[0mi\u001B[0m\u001B[1;33m]\u001B[0m\u001B[1;33m]\u001B[0m\u001B[1;33m)\u001B[0m\u001B[1;33m)\u001B[0m\u001B[1;33m\u001B[0m\u001B[1;33m\u001B[0m\u001B[0m\n\u001B[0;32m      6\u001B[0m     \u001B[0marma\u001B[0m \u001B[1;33m=\u001B[0m \u001B[0mARIMA\u001B[0m\u001B[1;33m(\u001B[0m\u001B[0mendog\u001B[0m\u001B[1;33m=\u001B[0m\u001B[0mtr_data\u001B[0m\u001B[1;33m,\u001B[0m \u001B[0morder\u001B[0m\u001B[1;33m=\u001B[0m\u001B[1;33m(\u001B[0m\u001B[0marma_ar_order\u001B[0m\u001B[1;33m,\u001B[0m \u001B[1;36m0\u001B[0m\u001B[1;33m,\u001B[0m \u001B[0marma_ma_order\u001B[0m\u001B[1;33m)\u001B[0m\u001B[1;33m)\u001B[0m\u001B[1;33m\u001B[0m\u001B[1;33m\u001B[0m\u001B[0m\n\u001B[1;32m----> 7\u001B[1;33m     \u001B[0mres_arma\u001B[0m \u001B[1;33m=\u001B[0m \u001B[0marma\u001B[0m\u001B[1;33m.\u001B[0m\u001B[0mfit\u001B[0m\u001B[1;33m(\u001B[0m\u001B[1;33m)\u001B[0m\u001B[1;33m\u001B[0m\u001B[1;33m\u001B[0m\u001B[0m\n\u001B[0m\u001B[0;32m      8\u001B[0m \u001B[1;33m\u001B[0m\u001B[0m\n\u001B[0;32m      9\u001B[0m \u001B[0mmae\u001B[0m \u001B[1;33m=\u001B[0m \u001B[0mnp\u001B[0m\u001B[1;33m.\u001B[0m\u001B[0mmean\u001B[0m\u001B[1;33m(\u001B[0m\u001B[0mnp\u001B[0m\u001B[1;33m.\u001B[0m\u001B[0mabs\u001B[0m\u001B[1;33m(\u001B[0m\u001B[0mnp\u001B[0m\u001B[1;33m.\u001B[0m\u001B[0msubtract\u001B[0m\u001B[1;33m(\u001B[0m\u001B[0mpredictions\u001B[0m\u001B[1;33m,\u001B[0m \u001B[0mts_data\u001B[0m\u001B[1;33m[\u001B[0m\u001B[1;33m:\u001B[0m\u001B[1;36m24\u001B[0m\u001B[1;33m*\u001B[0m\u001B[1;36m6\u001B[0m\u001B[1;33m]\u001B[0m\u001B[1;33m)\u001B[0m\u001B[1;33m)\u001B[0m\u001B[1;33m)\u001B[0m\u001B[1;33m\u001B[0m\u001B[1;33m\u001B[0m\u001B[0m\n",
      "\u001B[1;32md:\\projects\\ispr-midterms\\venv\\lib\\site-packages\\statsmodels\\tsa\\arima\\model.py\u001B[0m in \u001B[0;36mfit\u001B[1;34m(self, start_params, transformed, includes_fixed, method, method_kwargs, gls, gls_kwargs, cov_type, cov_kwds, return_params, low_memory)\u001B[0m\n\u001B[0;32m    359\u001B[0m                 \u001B[0mmethod_kwargs\u001B[0m\u001B[1;33m.\u001B[0m\u001B[0msetdefault\u001B[0m\u001B[1;33m(\u001B[0m\u001B[1;34m'disp'\u001B[0m\u001B[1;33m,\u001B[0m \u001B[1;36m0\u001B[0m\u001B[1;33m)\u001B[0m\u001B[1;33m\u001B[0m\u001B[1;33m\u001B[0m\u001B[0m\n\u001B[0;32m    360\u001B[0m \u001B[1;33m\u001B[0m\u001B[0m\n\u001B[1;32m--> 361\u001B[1;33m                 res = super(ARIMA, self).fit(\n\u001B[0m\u001B[0;32m    362\u001B[0m                     \u001B[0mreturn_params\u001B[0m\u001B[1;33m=\u001B[0m\u001B[0mreturn_params\u001B[0m\u001B[1;33m,\u001B[0m \u001B[0mlow_memory\u001B[0m\u001B[1;33m=\u001B[0m\u001B[0mlow_memory\u001B[0m\u001B[1;33m,\u001B[0m\u001B[1;33m\u001B[0m\u001B[1;33m\u001B[0m\u001B[0m\n\u001B[0;32m    363\u001B[0m                     cov_type=cov_type, cov_kwds=cov_kwds, **method_kwargs)\n",
      "\u001B[1;32md:\\projects\\ispr-midterms\\venv\\lib\\site-packages\\statsmodels\\tsa\\statespace\\mlemodel.py\u001B[0m in \u001B[0;36mfit\u001B[1;34m(self, start_params, transformed, includes_fixed, cov_type, cov_kwds, method, maxiter, full_output, disp, callback, return_params, optim_score, optim_complex_step, optim_hessian, flags, low_memory, **kwargs)\u001B[0m\n\u001B[0;32m    688\u001B[0m                 \u001B[0mflags\u001B[0m\u001B[1;33m[\u001B[0m\u001B[1;34m'hessian_method'\u001B[0m\u001B[1;33m]\u001B[0m \u001B[1;33m=\u001B[0m \u001B[0moptim_hessian\u001B[0m\u001B[1;33m\u001B[0m\u001B[1;33m\u001B[0m\u001B[0m\n\u001B[0;32m    689\u001B[0m             \u001B[0mfargs\u001B[0m \u001B[1;33m=\u001B[0m \u001B[1;33m(\u001B[0m\u001B[0mflags\u001B[0m\u001B[1;33m,\u001B[0m\u001B[1;33m)\u001B[0m\u001B[1;33m\u001B[0m\u001B[1;33m\u001B[0m\u001B[0m\n\u001B[1;32m--> 690\u001B[1;33m             mlefit = super(MLEModel, self).fit(start_params, method=method,\n\u001B[0m\u001B[0;32m    691\u001B[0m                                                \u001B[0mfargs\u001B[0m\u001B[1;33m=\u001B[0m\u001B[0mfargs\u001B[0m\u001B[1;33m,\u001B[0m\u001B[1;33m\u001B[0m\u001B[1;33m\u001B[0m\u001B[0m\n\u001B[0;32m    692\u001B[0m                                                \u001B[0mmaxiter\u001B[0m\u001B[1;33m=\u001B[0m\u001B[0mmaxiter\u001B[0m\u001B[1;33m,\u001B[0m\u001B[1;33m\u001B[0m\u001B[1;33m\u001B[0m\u001B[0m\n",
      "\u001B[1;32md:\\projects\\ispr-midterms\\venv\\lib\\site-packages\\statsmodels\\base\\model.py\u001B[0m in \u001B[0;36mfit\u001B[1;34m(self, start_params, method, maxiter, full_output, disp, fargs, callback, retall, skip_hessian, **kwargs)\u001B[0m\n\u001B[0;32m    517\u001B[0m         \u001B[0mwarn_convergence\u001B[0m \u001B[1;33m=\u001B[0m \u001B[0mkwargs\u001B[0m\u001B[1;33m.\u001B[0m\u001B[0mpop\u001B[0m\u001B[1;33m(\u001B[0m\u001B[1;34m'warn_convergence'\u001B[0m\u001B[1;33m,\u001B[0m \u001B[1;32mTrue\u001B[0m\u001B[1;33m)\u001B[0m\u001B[1;33m\u001B[0m\u001B[1;33m\u001B[0m\u001B[0m\n\u001B[0;32m    518\u001B[0m         \u001B[0moptimizer\u001B[0m \u001B[1;33m=\u001B[0m \u001B[0mOptimizer\u001B[0m\u001B[1;33m(\u001B[0m\u001B[1;33m)\u001B[0m\u001B[1;33m\u001B[0m\u001B[1;33m\u001B[0m\u001B[0m\n\u001B[1;32m--> 519\u001B[1;33m         xopt, retvals, optim_settings = optimizer._fit(f, score, start_params,\n\u001B[0m\u001B[0;32m    520\u001B[0m                                                        \u001B[0mfargs\u001B[0m\u001B[1;33m,\u001B[0m \u001B[0mkwargs\u001B[0m\u001B[1;33m,\u001B[0m\u001B[1;33m\u001B[0m\u001B[1;33m\u001B[0m\u001B[0m\n\u001B[0;32m    521\u001B[0m                                                        \u001B[0mhessian\u001B[0m\u001B[1;33m=\u001B[0m\u001B[0mhess\u001B[0m\u001B[1;33m,\u001B[0m\u001B[1;33m\u001B[0m\u001B[1;33m\u001B[0m\u001B[0m\n",
      "\u001B[1;32md:\\projects\\ispr-midterms\\venv\\lib\\site-packages\\statsmodels\\base\\optimizer.py\u001B[0m in \u001B[0;36m_fit\u001B[1;34m(self, objective, gradient, start_params, fargs, kwargs, hessian, method, maxiter, full_output, disp, callback, retall)\u001B[0m\n\u001B[0;32m    222\u001B[0m \u001B[1;33m\u001B[0m\u001B[0m\n\u001B[0;32m    223\u001B[0m         \u001B[0mfunc\u001B[0m \u001B[1;33m=\u001B[0m \u001B[0mfit_funcs\u001B[0m\u001B[1;33m[\u001B[0m\u001B[0mmethod\u001B[0m\u001B[1;33m]\u001B[0m\u001B[1;33m\u001B[0m\u001B[1;33m\u001B[0m\u001B[0m\n\u001B[1;32m--> 224\u001B[1;33m         xopt, retvals = func(objective, gradient, start_params, fargs, kwargs,\n\u001B[0m\u001B[0;32m    225\u001B[0m                             \u001B[0mdisp\u001B[0m\u001B[1;33m=\u001B[0m\u001B[0mdisp\u001B[0m\u001B[1;33m,\u001B[0m \u001B[0mmaxiter\u001B[0m\u001B[1;33m=\u001B[0m\u001B[0mmaxiter\u001B[0m\u001B[1;33m,\u001B[0m \u001B[0mcallback\u001B[0m\u001B[1;33m=\u001B[0m\u001B[0mcallback\u001B[0m\u001B[1;33m,\u001B[0m\u001B[1;33m\u001B[0m\u001B[1;33m\u001B[0m\u001B[0m\n\u001B[0;32m    226\u001B[0m                             \u001B[0mretall\u001B[0m\u001B[1;33m=\u001B[0m\u001B[0mretall\u001B[0m\u001B[1;33m,\u001B[0m \u001B[0mfull_output\u001B[0m\u001B[1;33m=\u001B[0m\u001B[0mfull_output\u001B[0m\u001B[1;33m,\u001B[0m\u001B[1;33m\u001B[0m\u001B[1;33m\u001B[0m\u001B[0m\n",
      "\u001B[1;32md:\\projects\\ispr-midterms\\venv\\lib\\site-packages\\statsmodels\\base\\optimizer.py\u001B[0m in \u001B[0;36m_fit_lbfgs\u001B[1;34m(f, score, start_params, fargs, kwargs, disp, maxiter, callback, retall, full_output, hess)\u001B[0m\n\u001B[0;32m    627\u001B[0m         \u001B[0mfunc\u001B[0m \u001B[1;33m=\u001B[0m \u001B[0mf\u001B[0m\u001B[1;33m\u001B[0m\u001B[1;33m\u001B[0m\u001B[0m\n\u001B[0;32m    628\u001B[0m \u001B[1;33m\u001B[0m\u001B[0m\n\u001B[1;32m--> 629\u001B[1;33m     retvals = optimize.fmin_l_bfgs_b(func, start_params, maxiter=maxiter,\n\u001B[0m\u001B[0;32m    630\u001B[0m                                      \u001B[0mcallback\u001B[0m\u001B[1;33m=\u001B[0m\u001B[0mcallback\u001B[0m\u001B[1;33m,\u001B[0m \u001B[0margs\u001B[0m\u001B[1;33m=\u001B[0m\u001B[0mfargs\u001B[0m\u001B[1;33m,\u001B[0m\u001B[1;33m\u001B[0m\u001B[1;33m\u001B[0m\u001B[0m\n\u001B[0;32m    631\u001B[0m                                      \u001B[0mbounds\u001B[0m\u001B[1;33m=\u001B[0m\u001B[0mbounds\u001B[0m\u001B[1;33m,\u001B[0m \u001B[0mdisp\u001B[0m\u001B[1;33m=\u001B[0m\u001B[0mdisp\u001B[0m\u001B[1;33m,\u001B[0m\u001B[1;33m\u001B[0m\u001B[1;33m\u001B[0m\u001B[0m\n",
      "\u001B[1;32md:\\projects\\ispr-midterms\\venv\\lib\\site-packages\\scipy\\optimize\\lbfgsb.py\u001B[0m in \u001B[0;36mfmin_l_bfgs_b\u001B[1;34m(func, x0, fprime, args, approx_grad, bounds, m, factr, pgtol, epsilon, iprint, maxfun, maxiter, disp, callback, maxls)\u001B[0m\n\u001B[0;32m    195\u001B[0m             'maxls': maxls}\n\u001B[0;32m    196\u001B[0m \u001B[1;33m\u001B[0m\u001B[0m\n\u001B[1;32m--> 197\u001B[1;33m     res = _minimize_lbfgsb(fun, x0, args=args, jac=jac, bounds=bounds,\n\u001B[0m\u001B[0;32m    198\u001B[0m                            **opts)\n\u001B[0;32m    199\u001B[0m     d = {'grad': res['jac'],\n",
      "\u001B[1;32md:\\projects\\ispr-midterms\\venv\\lib\\site-packages\\scipy\\optimize\\lbfgsb.py\u001B[0m in \u001B[0;36m_minimize_lbfgsb\u001B[1;34m(fun, x0, args, jac, bounds, disp, maxcor, ftol, gtol, eps, maxfun, maxiter, iprint, callback, maxls, finite_diff_rel_step, **unknown_options)\u001B[0m\n\u001B[0;32m    358\u001B[0m             \u001B[1;31m# until the completion of the current minimization iteration.\u001B[0m\u001B[1;33m\u001B[0m\u001B[1;33m\u001B[0m\u001B[1;33m\u001B[0m\u001B[0m\n\u001B[0;32m    359\u001B[0m             \u001B[1;31m# Overwrite f and g:\u001B[0m\u001B[1;33m\u001B[0m\u001B[1;33m\u001B[0m\u001B[1;33m\u001B[0m\u001B[0m\n\u001B[1;32m--> 360\u001B[1;33m             \u001B[0mf\u001B[0m\u001B[1;33m,\u001B[0m \u001B[0mg\u001B[0m \u001B[1;33m=\u001B[0m \u001B[0mfunc_and_grad\u001B[0m\u001B[1;33m(\u001B[0m\u001B[0mx\u001B[0m\u001B[1;33m)\u001B[0m\u001B[1;33m\u001B[0m\u001B[1;33m\u001B[0m\u001B[0m\n\u001B[0m\u001B[0;32m    361\u001B[0m         \u001B[1;32melif\u001B[0m \u001B[0mtask_str\u001B[0m\u001B[1;33m.\u001B[0m\u001B[0mstartswith\u001B[0m\u001B[1;33m(\u001B[0m\u001B[1;34mb'NEW_X'\u001B[0m\u001B[1;33m)\u001B[0m\u001B[1;33m:\u001B[0m\u001B[1;33m\u001B[0m\u001B[1;33m\u001B[0m\u001B[0m\n\u001B[0;32m    362\u001B[0m             \u001B[1;31m# new iteration\u001B[0m\u001B[1;33m\u001B[0m\u001B[1;33m\u001B[0m\u001B[1;33m\u001B[0m\u001B[0m\n",
      "\u001B[1;32md:\\projects\\ispr-midterms\\venv\\lib\\site-packages\\scipy\\optimize\\_differentiable_functions.py\u001B[0m in \u001B[0;36mfun_and_grad\u001B[1;34m(self, x)\u001B[0m\n\u001B[0;32m    259\u001B[0m             \u001B[0mself\u001B[0m\u001B[1;33m.\u001B[0m\u001B[0m_update_x_impl\u001B[0m\u001B[1;33m(\u001B[0m\u001B[0mx\u001B[0m\u001B[1;33m)\u001B[0m\u001B[1;33m\u001B[0m\u001B[1;33m\u001B[0m\u001B[0m\n\u001B[0;32m    260\u001B[0m         \u001B[0mself\u001B[0m\u001B[1;33m.\u001B[0m\u001B[0m_update_fun\u001B[0m\u001B[1;33m(\u001B[0m\u001B[1;33m)\u001B[0m\u001B[1;33m\u001B[0m\u001B[1;33m\u001B[0m\u001B[0m\n\u001B[1;32m--> 261\u001B[1;33m         \u001B[0mself\u001B[0m\u001B[1;33m.\u001B[0m\u001B[0m_update_grad\u001B[0m\u001B[1;33m(\u001B[0m\u001B[1;33m)\u001B[0m\u001B[1;33m\u001B[0m\u001B[1;33m\u001B[0m\u001B[0m\n\u001B[0m\u001B[0;32m    262\u001B[0m         \u001B[1;32mreturn\u001B[0m \u001B[0mself\u001B[0m\u001B[1;33m.\u001B[0m\u001B[0mf\u001B[0m\u001B[1;33m,\u001B[0m \u001B[0mself\u001B[0m\u001B[1;33m.\u001B[0m\u001B[0mg\u001B[0m\u001B[1;33m\u001B[0m\u001B[1;33m\u001B[0m\u001B[0m\n\u001B[0;32m    263\u001B[0m \u001B[1;33m\u001B[0m\u001B[0m\n",
      "\u001B[1;32md:\\projects\\ispr-midterms\\venv\\lib\\site-packages\\scipy\\optimize\\_differentiable_functions.py\u001B[0m in \u001B[0;36m_update_grad\u001B[1;34m(self)\u001B[0m\n\u001B[0;32m    229\u001B[0m     \u001B[1;32mdef\u001B[0m \u001B[0m_update_grad\u001B[0m\u001B[1;33m(\u001B[0m\u001B[0mself\u001B[0m\u001B[1;33m)\u001B[0m\u001B[1;33m:\u001B[0m\u001B[1;33m\u001B[0m\u001B[1;33m\u001B[0m\u001B[0m\n\u001B[0;32m    230\u001B[0m         \u001B[1;32mif\u001B[0m \u001B[1;32mnot\u001B[0m \u001B[0mself\u001B[0m\u001B[1;33m.\u001B[0m\u001B[0mg_updated\u001B[0m\u001B[1;33m:\u001B[0m\u001B[1;33m\u001B[0m\u001B[1;33m\u001B[0m\u001B[0m\n\u001B[1;32m--> 231\u001B[1;33m             \u001B[0mself\u001B[0m\u001B[1;33m.\u001B[0m\u001B[0m_update_grad_impl\u001B[0m\u001B[1;33m(\u001B[0m\u001B[1;33m)\u001B[0m\u001B[1;33m\u001B[0m\u001B[1;33m\u001B[0m\u001B[0m\n\u001B[0m\u001B[0;32m    232\u001B[0m             \u001B[0mself\u001B[0m\u001B[1;33m.\u001B[0m\u001B[0mg_updated\u001B[0m \u001B[1;33m=\u001B[0m \u001B[1;32mTrue\u001B[0m\u001B[1;33m\u001B[0m\u001B[1;33m\u001B[0m\u001B[0m\n\u001B[0;32m    233\u001B[0m \u001B[1;33m\u001B[0m\u001B[0m\n",
      "\u001B[1;32md:\\projects\\ispr-midterms\\venv\\lib\\site-packages\\scipy\\optimize\\_differentiable_functions.py\u001B[0m in \u001B[0;36mupdate_grad\u001B[1;34m()\u001B[0m\n\u001B[0;32m    149\u001B[0m                 \u001B[0mself\u001B[0m\u001B[1;33m.\u001B[0m\u001B[0m_update_fun\u001B[0m\u001B[1;33m(\u001B[0m\u001B[1;33m)\u001B[0m\u001B[1;33m\u001B[0m\u001B[1;33m\u001B[0m\u001B[0m\n\u001B[0;32m    150\u001B[0m                 \u001B[0mself\u001B[0m\u001B[1;33m.\u001B[0m\u001B[0mngev\u001B[0m \u001B[1;33m+=\u001B[0m \u001B[1;36m1\u001B[0m\u001B[1;33m\u001B[0m\u001B[1;33m\u001B[0m\u001B[0m\n\u001B[1;32m--> 151\u001B[1;33m                 self.g = approx_derivative(fun_wrapped, self.x, f0=self.f,\n\u001B[0m\u001B[0;32m    152\u001B[0m                                            **finite_diff_options)\n\u001B[0;32m    153\u001B[0m \u001B[1;33m\u001B[0m\u001B[0m\n",
      "\u001B[1;32md:\\projects\\ispr-midterms\\venv\\lib\\site-packages\\scipy\\optimize\\_numdiff.py\u001B[0m in \u001B[0;36mapprox_derivative\u001B[1;34m(fun, x0, method, rel_step, abs_step, f0, bounds, sparsity, as_linear_operator, args, kwargs)\u001B[0m\n\u001B[0;32m    484\u001B[0m \u001B[1;33m\u001B[0m\u001B[0m\n\u001B[0;32m    485\u001B[0m         \u001B[1;32mif\u001B[0m \u001B[0msparsity\u001B[0m \u001B[1;32mis\u001B[0m \u001B[1;32mNone\u001B[0m\u001B[1;33m:\u001B[0m\u001B[1;33m\u001B[0m\u001B[1;33m\u001B[0m\u001B[0m\n\u001B[1;32m--> 486\u001B[1;33m             return _dense_difference(fun_wrapped, x0, f0, h,\n\u001B[0m\u001B[0;32m    487\u001B[0m                                      use_one_sided, method)\n\u001B[0;32m    488\u001B[0m         \u001B[1;32melse\u001B[0m\u001B[1;33m:\u001B[0m\u001B[1;33m\u001B[0m\u001B[1;33m\u001B[0m\u001B[0m\n",
      "\u001B[1;32md:\\projects\\ispr-midterms\\venv\\lib\\site-packages\\scipy\\optimize\\_numdiff.py\u001B[0m in \u001B[0;36m_dense_difference\u001B[1;34m(fun, x0, f0, h, use_one_sided, method)\u001B[0m\n\u001B[0;32m    555\u001B[0m             \u001B[0mx\u001B[0m \u001B[1;33m=\u001B[0m \u001B[0mx0\u001B[0m \u001B[1;33m+\u001B[0m \u001B[0mh_vecs\u001B[0m\u001B[1;33m[\u001B[0m\u001B[0mi\u001B[0m\u001B[1;33m]\u001B[0m\u001B[1;33m\u001B[0m\u001B[1;33m\u001B[0m\u001B[0m\n\u001B[0;32m    556\u001B[0m             \u001B[0mdx\u001B[0m \u001B[1;33m=\u001B[0m \u001B[0mx\u001B[0m\u001B[1;33m[\u001B[0m\u001B[0mi\u001B[0m\u001B[1;33m]\u001B[0m \u001B[1;33m-\u001B[0m \u001B[0mx0\u001B[0m\u001B[1;33m[\u001B[0m\u001B[0mi\u001B[0m\u001B[1;33m]\u001B[0m  \u001B[1;31m# Recompute dx as exactly representable number.\u001B[0m\u001B[1;33m\u001B[0m\u001B[1;33m\u001B[0m\u001B[0m\n\u001B[1;32m--> 557\u001B[1;33m             \u001B[0mdf\u001B[0m \u001B[1;33m=\u001B[0m \u001B[0mfun\u001B[0m\u001B[1;33m(\u001B[0m\u001B[0mx\u001B[0m\u001B[1;33m)\u001B[0m \u001B[1;33m-\u001B[0m \u001B[0mf0\u001B[0m\u001B[1;33m\u001B[0m\u001B[1;33m\u001B[0m\u001B[0m\n\u001B[0m\u001B[0;32m    558\u001B[0m         \u001B[1;32melif\u001B[0m \u001B[0mmethod\u001B[0m \u001B[1;33m==\u001B[0m \u001B[1;34m'3-point'\u001B[0m \u001B[1;32mand\u001B[0m \u001B[0muse_one_sided\u001B[0m\u001B[1;33m[\u001B[0m\u001B[0mi\u001B[0m\u001B[1;33m]\u001B[0m\u001B[1;33m:\u001B[0m\u001B[1;33m\u001B[0m\u001B[1;33m\u001B[0m\u001B[0m\n\u001B[0;32m    559\u001B[0m             \u001B[0mx1\u001B[0m \u001B[1;33m=\u001B[0m \u001B[0mx0\u001B[0m \u001B[1;33m+\u001B[0m \u001B[0mh_vecs\u001B[0m\u001B[1;33m[\u001B[0m\u001B[0mi\u001B[0m\u001B[1;33m]\u001B[0m\u001B[1;33m\u001B[0m\u001B[1;33m\u001B[0m\u001B[0m\n",
      "\u001B[1;32md:\\projects\\ispr-midterms\\venv\\lib\\site-packages\\scipy\\optimize\\_numdiff.py\u001B[0m in \u001B[0;36mfun_wrapped\u001B[1;34m(x)\u001B[0m\n\u001B[0;32m    435\u001B[0m \u001B[1;33m\u001B[0m\u001B[0m\n\u001B[0;32m    436\u001B[0m     \u001B[1;32mdef\u001B[0m \u001B[0mfun_wrapped\u001B[0m\u001B[1;33m(\u001B[0m\u001B[0mx\u001B[0m\u001B[1;33m)\u001B[0m\u001B[1;33m:\u001B[0m\u001B[1;33m\u001B[0m\u001B[1;33m\u001B[0m\u001B[0m\n\u001B[1;32m--> 437\u001B[1;33m         \u001B[0mf\u001B[0m \u001B[1;33m=\u001B[0m \u001B[0mnp\u001B[0m\u001B[1;33m.\u001B[0m\u001B[0matleast_1d\u001B[0m\u001B[1;33m(\u001B[0m\u001B[0mfun\u001B[0m\u001B[1;33m(\u001B[0m\u001B[0mx\u001B[0m\u001B[1;33m,\u001B[0m \u001B[1;33m*\u001B[0m\u001B[0margs\u001B[0m\u001B[1;33m,\u001B[0m \u001B[1;33m**\u001B[0m\u001B[0mkwargs\u001B[0m\u001B[1;33m)\u001B[0m\u001B[1;33m)\u001B[0m\u001B[1;33m\u001B[0m\u001B[1;33m\u001B[0m\u001B[0m\n\u001B[0m\u001B[0;32m    438\u001B[0m         \u001B[1;32mif\u001B[0m \u001B[0mf\u001B[0m\u001B[1;33m.\u001B[0m\u001B[0mndim\u001B[0m \u001B[1;33m>\u001B[0m \u001B[1;36m1\u001B[0m\u001B[1;33m:\u001B[0m\u001B[1;33m\u001B[0m\u001B[1;33m\u001B[0m\u001B[0m\n\u001B[0;32m    439\u001B[0m             raise RuntimeError(\"`fun` return value has \"\n",
      "\u001B[1;32md:\\projects\\ispr-midterms\\venv\\lib\\site-packages\\scipy\\optimize\\_differentiable_functions.py\u001B[0m in \u001B[0;36mfun_wrapped\u001B[1;34m(x)\u001B[0m\n\u001B[0;32m    128\u001B[0m         \u001B[1;32mdef\u001B[0m \u001B[0mfun_wrapped\u001B[0m\u001B[1;33m(\u001B[0m\u001B[0mx\u001B[0m\u001B[1;33m)\u001B[0m\u001B[1;33m:\u001B[0m\u001B[1;33m\u001B[0m\u001B[1;33m\u001B[0m\u001B[0m\n\u001B[0;32m    129\u001B[0m             \u001B[0mself\u001B[0m\u001B[1;33m.\u001B[0m\u001B[0mnfev\u001B[0m \u001B[1;33m+=\u001B[0m \u001B[1;36m1\u001B[0m\u001B[1;33m\u001B[0m\u001B[1;33m\u001B[0m\u001B[0m\n\u001B[1;32m--> 130\u001B[1;33m             \u001B[1;32mreturn\u001B[0m \u001B[0mfun\u001B[0m\u001B[1;33m(\u001B[0m\u001B[0mx\u001B[0m\u001B[1;33m,\u001B[0m \u001B[1;33m*\u001B[0m\u001B[0margs\u001B[0m\u001B[1;33m)\u001B[0m\u001B[1;33m\u001B[0m\u001B[1;33m\u001B[0m\u001B[0m\n\u001B[0m\u001B[0;32m    131\u001B[0m \u001B[1;33m\u001B[0m\u001B[0m\n\u001B[0;32m    132\u001B[0m         \u001B[1;32mdef\u001B[0m \u001B[0mupdate_fun\u001B[0m\u001B[1;33m(\u001B[0m\u001B[1;33m)\u001B[0m\u001B[1;33m:\u001B[0m\u001B[1;33m\u001B[0m\u001B[1;33m\u001B[0m\u001B[0m\n",
      "\u001B[1;32md:\\projects\\ispr-midterms\\venv\\lib\\site-packages\\statsmodels\\base\\model.py\u001B[0m in \u001B[0;36mf\u001B[1;34m(params, *args)\u001B[0m\n\u001B[0;32m    499\u001B[0m \u001B[1;33m\u001B[0m\u001B[0m\n\u001B[0;32m    500\u001B[0m         \u001B[1;32mdef\u001B[0m \u001B[0mf\u001B[0m\u001B[1;33m(\u001B[0m\u001B[0mparams\u001B[0m\u001B[1;33m,\u001B[0m \u001B[1;33m*\u001B[0m\u001B[0margs\u001B[0m\u001B[1;33m)\u001B[0m\u001B[1;33m:\u001B[0m\u001B[1;33m\u001B[0m\u001B[1;33m\u001B[0m\u001B[0m\n\u001B[1;32m--> 501\u001B[1;33m             \u001B[1;32mreturn\u001B[0m \u001B[1;33m-\u001B[0m\u001B[0mself\u001B[0m\u001B[1;33m.\u001B[0m\u001B[0mloglike\u001B[0m\u001B[1;33m(\u001B[0m\u001B[0mparams\u001B[0m\u001B[1;33m,\u001B[0m \u001B[1;33m*\u001B[0m\u001B[0margs\u001B[0m\u001B[1;33m)\u001B[0m \u001B[1;33m/\u001B[0m \u001B[0mnobs\u001B[0m\u001B[1;33m\u001B[0m\u001B[1;33m\u001B[0m\u001B[0m\n\u001B[0m\u001B[0;32m    502\u001B[0m \u001B[1;33m\u001B[0m\u001B[0m\n\u001B[0;32m    503\u001B[0m         \u001B[1;32mif\u001B[0m \u001B[0mmethod\u001B[0m \u001B[1;33m==\u001B[0m \u001B[1;34m'newton'\u001B[0m\u001B[1;33m:\u001B[0m\u001B[1;33m\u001B[0m\u001B[1;33m\u001B[0m\u001B[0m\n",
      "\u001B[1;32md:\\projects\\ispr-midterms\\venv\\lib\\site-packages\\statsmodels\\tsa\\statespace\\mlemodel.py\u001B[0m in \u001B[0;36mloglike\u001B[1;34m(self, params, *args, **kwargs)\u001B[0m\n\u001B[0;32m    923\u001B[0m             \u001B[0mkwargs\u001B[0m\u001B[1;33m[\u001B[0m\u001B[1;34m'inversion_method'\u001B[0m\u001B[1;33m]\u001B[0m \u001B[1;33m=\u001B[0m \u001B[0mINVERT_UNIVARIATE\u001B[0m \u001B[1;33m|\u001B[0m \u001B[0mSOLVE_LU\u001B[0m\u001B[1;33m\u001B[0m\u001B[1;33m\u001B[0m\u001B[0m\n\u001B[0;32m    924\u001B[0m \u001B[1;33m\u001B[0m\u001B[0m\n\u001B[1;32m--> 925\u001B[1;33m         \u001B[0mloglike\u001B[0m \u001B[1;33m=\u001B[0m \u001B[0mself\u001B[0m\u001B[1;33m.\u001B[0m\u001B[0mssm\u001B[0m\u001B[1;33m.\u001B[0m\u001B[0mloglike\u001B[0m\u001B[1;33m(\u001B[0m\u001B[0mcomplex_step\u001B[0m\u001B[1;33m=\u001B[0m\u001B[0mcomplex_step\u001B[0m\u001B[1;33m,\u001B[0m \u001B[1;33m**\u001B[0m\u001B[0mkwargs\u001B[0m\u001B[1;33m)\u001B[0m\u001B[1;33m\u001B[0m\u001B[1;33m\u001B[0m\u001B[0m\n\u001B[0m\u001B[0;32m    926\u001B[0m \u001B[1;33m\u001B[0m\u001B[0m\n\u001B[0;32m    927\u001B[0m         \u001B[1;31m# Koopman, Shephard, and Doornik recommend maximizing the average\u001B[0m\u001B[1;33m\u001B[0m\u001B[1;33m\u001B[0m\u001B[1;33m\u001B[0m\u001B[0m\n",
      "\u001B[1;32md:\\projects\\ispr-midterms\\venv\\lib\\site-packages\\statsmodels\\tsa\\statespace\\kalman_filter.py\u001B[0m in \u001B[0;36mloglike\u001B[1;34m(self, **kwargs)\u001B[0m\n\u001B[0;32m    981\u001B[0m         kwargs.setdefault('conserve_memory',\n\u001B[0;32m    982\u001B[0m                           MEMORY_CONSERVE ^ MEMORY_NO_LIKELIHOOD)\n\u001B[1;32m--> 983\u001B[1;33m         \u001B[0mkfilter\u001B[0m \u001B[1;33m=\u001B[0m \u001B[0mself\u001B[0m\u001B[1;33m.\u001B[0m\u001B[0m_filter\u001B[0m\u001B[1;33m(\u001B[0m\u001B[1;33m**\u001B[0m\u001B[0mkwargs\u001B[0m\u001B[1;33m)\u001B[0m\u001B[1;33m\u001B[0m\u001B[1;33m\u001B[0m\u001B[0m\n\u001B[0m\u001B[0;32m    984\u001B[0m         loglikelihood_burn = kwargs.get('loglikelihood_burn',\n\u001B[0;32m    985\u001B[0m                                         self.loglikelihood_burn)\n",
      "\u001B[1;31mKeyboardInterrupt\u001B[0m: "
     ]
    }
   ],
   "source": [
    "# _, tr_data, ts_data = read_data()\n",
    "# predictions = []\n",
    "# for i in tqdm(range(n_pred)):\n",
    "#     predictions.append(res_arma.forecast(steps=1))\n",
    "#     tr_data = np.concatenate((tr_data, [ts_data[i]]))\n",
    "#     arma = ARIMA(endog=tr_data, order=(arma_ar_order, 0, arma_ma_order))\n",
    "#     res_arma = arma.fit()\n",
    "#\n",
    "# mae = np.mean(np.abs(np.subtract(predictions, ts_data[:24*6])))\n",
    "# print(\"MAE: \", mae)\n",
    "# plt.plot(ts_data[:n_pred], label=\"Test data\")\n",
    "# plt.plot(predictions, label=\"Predictions\")\n",
    "# plt.legend()\n",
    "# plt.show()\n"
   ],
   "metadata": {
    "collapsed": false,
    "pycharm": {
     "name": "#%%\n"
    }
   }
  }
 ],
 "metadata": {
  "kernelspec": {
   "display_name": "Python 3",
   "language": "python",
   "name": "python3"
  },
  "language_info": {
   "codemirror_mode": {
    "name": "ipython",
    "version": 2
   },
   "file_extension": ".py",
   "mimetype": "text/x-python",
   "name": "python",
   "nbconvert_exporter": "python",
   "pygments_lexer": "ipython2",
   "version": "2.7.6"
  }
 },
 "nbformat": 4,
 "nbformat_minor": 0
}